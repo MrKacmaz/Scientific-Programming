{
 "cells": [
  {
   "cell_type": "markdown",
   "metadata": {},
   "source": [
    "# **EXERCISES 2**\n"
   ]
  },
  {
   "cell_type": "markdown",
   "metadata": {},
   "source": [
    "### _Coded by Alperen KAÇMAZ_\n"
   ]
  },
  {
   "cell_type": "markdown",
   "metadata": {},
   "source": [
    "## _4 Lists_\n"
   ]
  },
  {
   "cell_type": "markdown",
   "metadata": {},
   "source": [
    "### Exercise 4.1: Short questions\n"
   ]
  },
  {
   "cell_type": "markdown",
   "metadata": {},
   "source": [
    "- (a) Write a function that prints the elements of a list\n"
   ]
  },
  {
   "cell_type": "code",
   "execution_count": 77,
   "metadata": {},
   "outputs": [
    {
     "name": "stdout",
     "output_type": "stream",
     "text": [
      "5 6 7 9 2 0 "
     ]
    }
   ],
   "source": [
    "def print_fun(args):\n",
    "    for i in args:\n",
    "        print(i, end=' ')\n",
    "\n",
    "\n",
    "print_fun([5, 6, 7, 9, 2, 0])\n"
   ]
  },
  {
   "cell_type": "markdown",
   "metadata": {},
   "source": [
    "- (b) Write a function that prints the elements of a list in reverse\n"
   ]
  },
  {
   "cell_type": "code",
   "execution_count": 78,
   "metadata": {},
   "outputs": [
    {
     "name": "stdout",
     "output_type": "stream",
     "text": [
      "9 8 7 6 "
     ]
    }
   ],
   "source": [
    "def reverse(args):\n",
    "    for i in range(len(args)-1, 0, -1):\n",
    "        print(args[i], end=' ')\n",
    "\n",
    "\n",
    "reverse([5, 6, 7, 8, 9])\n"
   ]
  },
  {
   "cell_type": "markdown",
   "metadata": {},
   "source": [
    "- (c) Write your own implementation of the len function that returns the number of elements in a list.\n"
   ]
  },
  {
   "cell_type": "code",
   "execution_count": 79,
   "metadata": {},
   "outputs": [
    {
     "name": "stdout",
     "output_type": "stream",
     "text": [
      "7\n"
     ]
    }
   ],
   "source": [
    "def own_len(args):\n",
    "    index = 0\n",
    "    for i in args:\n",
    "        index += 1\n",
    "    return index\n",
    "\n",
    "\n",
    "print(own_len([5, 6, 7, 8, 9, 2, 0]))\n"
   ]
  },
  {
   "cell_type": "markdown",
   "metadata": {},
   "source": [
    "### Exercise 4.2: Copying lists\n",
    "\n",
    "- (a) Create a list a with some entries.\n",
    "- (b) Now set b = a\n",
    "- (c) Change b[1]\n",
    "- (d) What happened to a?\n",
    "- (e) Now set c = a[:]\n",
    "- (f) Change c[2]\n",
    "- (g) What happened to a?\n"
   ]
  },
  {
   "cell_type": "code",
   "execution_count": 80,
   "metadata": {},
   "outputs": [
    {
     "name": "stdout",
     "output_type": "stream",
     "text": [
      "[1, -999, 5, 9, 3, 11, 97, -5, 6, -21]\n",
      "[1, -999, 5, 9, 3, 11, 97, -5, 6, -21]\n"
     ]
    }
   ],
   "source": [
    "a = [1, 2, 5, 9, 3, 11, 97, -5, 6, -21]\n",
    "b = a\n",
    "b[1] = -999\n",
    "# Even if we want to change b, the root data structure also changes because the assignment process is done.\n",
    "print(a)\n",
    "c = a[:]\n",
    "c[2] = 999\n",
    "# There was no change in the root data structure of a, as copying was performed instead of assigning to c.\n",
    "print(a)\n"
   ]
  },
  {
   "cell_type": "markdown",
   "metadata": {},
   "source": [
    "- Now create a function set_first_elem_to_zero(l) that takes a list, sets its first entry to zero, and returns the list.\n",
    "- What happens to the original list?\n"
   ]
  },
  {
   "cell_type": "code",
   "execution_count": 81,
   "metadata": {},
   "outputs": [
    {
     "name": "stdout",
     "output_type": "stream",
     "text": [
      "[0, 5, 8]\n"
     ]
    }
   ],
   "source": [
    "def set_first_elem_to_zero(args: list):\n",
    "    args[0] = 0\n",
    "    return args\n",
    "\n",
    "\n",
    "print(set_first_elem_to_zero([9, 5, 8]))\n"
   ]
  },
  {
   "cell_type": "markdown",
   "metadata": {},
   "source": [
    "### Exercise 4.3: Lists of lists\n",
    "\n",
    "- What is the difference between a and b:\n",
    "  - a = [[]] \\* 3\n",
    "  - b = [[] for \\_ in xrange(3)]\n"
   ]
  },
  {
   "cell_type": "code",
   "execution_count": 82,
   "metadata": {},
   "outputs": [
    {
     "name": "stdout",
     "output_type": "stream",
     "text": [
      "[[], [], []]\n",
      "[[], [], []]\n"
     ]
    }
   ],
   "source": [
    "a = [[]] * 3\n",
    "b = [[] for _ in range(3)]\n",
    "print(a)\n",
    "print(b)\n"
   ]
  },
  {
   "cell_type": "markdown",
   "metadata": {},
   "source": [
    "### Exercise 4.4: Lists and functions\n",
    "\n",
    "- Write a function that takes a list and an index, and sets the value of the list at the given index to 0.\n"
   ]
  },
  {
   "cell_type": "code",
   "execution_count": 83,
   "metadata": {},
   "outputs": [
    {
     "name": "stdout",
     "output_type": "stream",
     "text": [
      "[5, 9, 0, 6, 2, -9]\n"
     ]
    }
   ],
   "source": [
    "def list_fun(args: list, index: int):\n",
    "    args[index] = 0\n",
    "    return args\n",
    "\n",
    "\n",
    "print(list_fun([5, 9, 8, 6, 2, -9], 2))\n"
   ]
  },
  {
   "cell_type": "markdown",
   "metadata": {},
   "source": [
    "### Exercise 4.5: Primes\n",
    "\n",
    "- In Section 3 you wrote a function that prints all primes up to n, and a function that prints the first n primes. Update these functions such that they return lists instead.\n"
   ]
  },
  {
   "cell_type": "code",
   "execution_count": 84,
   "metadata": {},
   "outputs": [
    {
     "name": "stdout",
     "output_type": "stream",
     "text": [
      "[2, 3, 5, 7, 11, 13, 17, 19, 23, 29, 31, 37, 41, 43, 47, 53, 59, 61, 67, 71, 73, 79, 83, 89, 97, 101, 103, 107, 109, 113, 127, 131, 137, 139, 149, 151, 157, 163, 167, 173, 179, 181, 191, 193, 197, 199, 211]\n"
     ]
    }
   ],
   "source": [
    "def is_prime(n):\n",
    "    for i in range(2, n):\n",
    "        if n % i == 0:\n",
    "            return False\n",
    "\n",
    "    return True\n",
    "\n",
    "\n",
    "def print_prime(n):\n",
    "    primes = list()\n",
    "    for i in range(2, n + 1):\n",
    "        if is_prime(i):\n",
    "            primes.append(i)\n",
    "    return primes\n",
    "\n",
    "\n",
    "print(print_prime(211))\n"
   ]
  },
  {
   "cell_type": "markdown",
   "metadata": {},
   "source": [
    "### Exercise 4.6: List comprehensions\n",
    "\n",
    "Let i, j = 1, . . . , n\n",
    "\n",
    "- (a) Generate a list with elements [i,j].\n",
    "- (b) Generate a list with elements [i,j] with i < j\n"
   ]
  },
  {
   "cell_type": "code",
   "execution_count": 85,
   "metadata": {},
   "outputs": [
    {
     "name": "stdout",
     "output_type": "stream",
     "text": [
      "[[0, 0, 0], [0, 0, 0], [0, 0, 0], [0, 0, 0], [0, 0, 0]]\n"
     ]
    }
   ],
   "source": [
    "i, j = (3, 5)\n",
    "arr = [[0]*i]*j\n",
    "print(arr)\n"
   ]
  },
  {
   "cell_type": "markdown",
   "metadata": {},
   "source": [
    "- (c) Generate a list with elements i + j with both i and j prime and i > j.\n"
   ]
  },
  {
   "cell_type": "code",
   "execution_count": 86,
   "metadata": {},
   "outputs": [
    {
     "name": "stdout",
     "output_type": "stream",
     "text": [
      "[[0, 0, 0, 0, 0, 0, 0, 0, 0, 0, 0, 0], [0, 0, 0, 0, 0, 0, 0, 0, 0, 0, 0, 0], [0, 0, 0, 0, 0, 0, 0, 0, 0, 0, 0, 0], [0, 0, 0, 0, 0, 0, 0, 0, 0, 0, 0, 0], [0, 0, 0, 0, 0, 0, 0, 0, 0, 0, 0, 0], [0, 0, 0, 0, 0, 0, 0, 0, 0, 0, 0, 0], [0, 0, 0, 0, 0, 0, 0, 0, 0, 0, 0, 0], [0, 0, 0, 0, 0, 0, 0, 0, 0, 0, 0, 0], [0, 0, 0, 0, 0, 0, 0, 0, 0, 0, 0, 0], [0, 0, 0, 0, 0, 0, 0, 0, 0, 0, 0, 0], [0, 0, 0, 0, 0, 0, 0, 0, 0, 0, 0, 0], [0, 0, 0, 0, 0, 0, 0, 0, 0, 0, 0, 0]]\n"
     ]
    }
   ],
   "source": [
    "i, j = (7, 5)\n",
    "my_list = [[0] * (i+j)]*(i+j)\n",
    "print(my_list)\n"
   ]
  },
  {
   "cell_type": "markdown",
   "metadata": {},
   "source": [
    "- (d) Write a function that evaluates an arbitrary polynomial a0 + a1x + a2x2 + . . . + anxn using a list comprehension, where you are given x and a list with coefficients coefs (hint: use enumerate)\n"
   ]
  },
  {
   "cell_type": "code",
   "execution_count": 87,
   "metadata": {},
   "outputs": [
    {
     "name": "stdout",
     "output_type": "stream",
     "text": [
      "34\n"
     ]
    }
   ],
   "source": [
    "def coeff(args: list, x: int):\n",
    "    retval = 0\n",
    "    for i in range(len(args)):\n",
    "        if i == 0:\n",
    "            retval += args[i]\n",
    "        else:\n",
    "            retval += args[i] * (x**i)\n",
    "    return retval\n",
    "\n",
    "\n",
    "print(coeff([1, 2, 3], 3))\n"
   ]
  },
  {
   "cell_type": "markdown",
   "metadata": {},
   "source": [
    "### Exercise 4.7: Filter\n",
    "\n",
    "In lecture we have seen how to implement map using list comprehensions. Implement filter using list\n",
    "comprehensions.\n",
    "\n",
    "Name your functions myfilter so you can compare with Python’s standard filter.\n"
   ]
  },
  {
   "cell_type": "code",
   "execution_count": 88,
   "metadata": {},
   "outputs": [
    {
     "name": "stdout",
     "output_type": "stream",
     "text": [
      "filter >> [2, 4, 6, 8, 0]  ||  myfilter >> [2, 4, 6, 8, 0]\n"
     ]
    }
   ],
   "source": [
    "def myfilter(args: list):\n",
    "    ll = []\n",
    "    for i in args:\n",
    "        if i % 2 == 0:\n",
    "            ll.append(i)\n",
    "    return ll\n",
    "\n",
    "\n",
    "arr = [1, 2, 3, 4, 5, 6, 7, 8, 9, 0]\n",
    "print('filter >> ' + str(list(filter(lambda x: x % 2 == 0, arr))), end='  || ')\n",
    "print(' myfilter >> ' + str(myfilter(arr)))\n"
   ]
  },
  {
   "cell_type": "markdown",
   "metadata": {},
   "source": [
    "### Exercise 4.8: Flatten a list of lists\n",
    "\n",
    "- Consider having a list with lists as elements, e.g. [[1,3], [3,6]].\n",
    "- Write a function that takes such a list, and returns a list with as elements the elements of the sublists, e.g. [1, 3, 3, 6].\n"
   ]
  },
  {
   "cell_type": "code",
   "execution_count": 89,
   "metadata": {},
   "outputs": [
    {
     "name": "stdout",
     "output_type": "stream",
     "text": [
      "[1, 3, 5, 6]\n"
     ]
    }
   ],
   "source": [
    "def combine(args: list):\n",
    "    index = []\n",
    "    for i in args:\n",
    "        for j in i:\n",
    "            index.append(j)\n",
    "    return index\n",
    "\n",
    "\n",
    "elements = [[1, 3], [5, 6]]\n",
    "print(combine(elements))\n"
   ]
  },
  {
   "cell_type": "markdown",
   "metadata": {},
   "source": [
    "### Exercise 4.9: Finding the longest word\n",
    "\n",
    "- Write a function that returns the longest word in a variable text that contains a sentence.\n",
    "- While text may contain punctuation, these should not be taken into account. What happens with ties?\n",
    "- As an example, consider: “Hello, how was the football match earlier today???”\n"
   ]
  },
  {
   "cell_type": "code",
   "execution_count": 90,
   "metadata": {},
   "outputs": [
    {
     "data": {
      "text/plain": [
       "8"
      ]
     },
     "execution_count": 90,
     "metadata": {},
     "output_type": "execute_result"
    }
   ],
   "source": [
    "def tlw(args: str):\n",
    "    punctuation = [',', '.', '?', ';', ':', '!']\n",
    "    counter = 0\n",
    "    counters = []\n",
    "    for i in range(len(args)):\n",
    "        if args[i] == ' ':\n",
    "            counters.append(counter)\n",
    "            counter = 0\n",
    "            continue\n",
    "        if i == len(args)-1:\n",
    "            counters.append(counter)\n",
    "            break\n",
    "        if args[i] in punctuation:\n",
    "            continue\n",
    "        counter += 1\n",
    "\n",
    "    return max(counters)\n",
    "\n",
    "\n",
    "tlw('Hello, how was the football match earlier today???')\n"
   ]
  },
  {
   "cell_type": "markdown",
   "metadata": {},
   "source": [
    "### Exercise 4.10: Collatz sequence, part 2\n",
    "\n",
    "Recall the Collatz sequence problem from Section 1. Our goal is to find the number n < 1, 000, 000 that leads to the longest Collatz sequence.\n",
    "\n",
    "- (a) Write a function that for any n, returns its Collatz sequence as a list\n",
    "- (b) Write a function that finds the integer x that leads to the longest Collatz sequence with x < n.\n"
   ]
  },
  {
   "cell_type": "code",
   "execution_count": 91,
   "metadata": {},
   "outputs": [],
   "source": [
    "def collatz(arg: int):\n",
    "    collatz_arr = []\n",
    "    x_zero = arg\n",
    "    interrupt = 0\n",
    "    while interrupt == 0:\n",
    "        # even\n",
    "        if x_zero % 2 == 0:\n",
    "            x_zero = int(x_zero / 2)\n",
    "            # break the while loop\n",
    "            if x_zero == 1:\n",
    "                interrupt = 1\n",
    "            collatz_arr.append(int(x_zero))\n",
    "\n",
    "        # odd\n",
    "        else:\n",
    "            x_zero = int((x_zero * 3) + 1)\n",
    "            # break the while loop\n",
    "            if x_zero == 1:\n",
    "                interrupt = 1\n",
    "            collatz_arr.append(int(x_zero))\n",
    "\n",
    "    return collatz_arr\n",
    "\n",
    "\n",
    "def find_max():\n",
    "    is_max = []\n",
    "    num = 0\n",
    "    for n in range(2, 1000000):\n",
    "        coll_arr = collatz(n)\n",
    "        if len(is_max) < len(coll_arr):\n",
    "            is_max = coll_arr\n",
    "            num = n\n",
    "    return is_max, num\n",
    "\n",
    "\n",
    "arr, num = find_max()\n",
    "print('Number >> ' + str(num)+'\\nLength >> ' +\n",
    "      str(len(arr)) + '\\nArray >> ' + str(arr))\n"
   ]
  },
  {
   "cell_type": "markdown",
   "metadata": {},
   "source": [
    "### Exercise 4.11: Pivots\n",
    "Write a function that takes a value x and a list ys, and returns a list that contains the value x and all elements of ys such that all values y in ys that are smaller than x come first, then we element x and then the rest of the values in ys\n",
    "- For example, the output of f(3, [6, 4, 1, 7]) should be [1, 3, 6, 4, 7]"
   ]
  },
  {
   "cell_type": "code",
   "execution_count": null,
   "metadata": {},
   "outputs": [
    {
     "data": {
      "text/plain": [
       "[1, 3, 6, 4, 7]"
      ]
     },
     "execution_count": 67,
     "metadata": {},
     "output_type": "execute_result"
    }
   ],
   "source": [
    "def pivots(x: int, ys: list):\n",
    "    small = 0\n",
    "    for i in ys:\n",
    "        if i < x:\n",
    "            small = i\n",
    "            ys.remove(i)\n",
    "    ys.insert(0, x)\n",
    "    ys.insert(0, small)\n",
    "    return ys\n",
    "\n",
    "\n",
    "pivots(3, [6, 4, 1, 7])\n"
   ]
  },
  {
   "cell_type": "markdown",
   "metadata": {},
   "source": [
    "### Exercise 4.12: Prime challenge\n",
    "Write the function primes(n) that return a list with all prime numbers up to n using three (or less) lines of code.\n",
    "- Hint 1: Use lambda functions and list comprehensions.\n",
    "- Hint 2: Use the first two lines to define two helper (lambda) functions."
   ]
  },
  {
   "cell_type": "code",
   "execution_count": null,
   "metadata": {},
   "outputs": [
    {
     "name": "stdout",
     "output_type": "stream",
     "text": [
      "[2, 3, 5, 7, 11, 13, 17, 19, 23, 29, 31, 37, 41, 43, 47, 53, 59, 61, 67, 71, 73, 79, 83, 89, 97, 101, 103, 107, 109, 113, 121, 127, 131, 137, 139, 143, 149, 151, 157, 163, 167, 169, 173, 179, 181, 187, 191, 193, 197, 199, 209]\n"
     ]
    }
   ],
   "source": [
    "def primes(n: int):\n",
    "    primes = range(2, n)\n",
    "\n",
    "    for i in range(2, 8):\n",
    "        primes = list(filter(lambda x: x == i or x % i, primes))\n",
    "    return primes\n",
    "\n",
    "print(primes(211))\n"
   ]
  },
  {
   "cell_type": "markdown",
   "metadata": {},
   "source": [
    "## _5 Tuples_\n",
    "### Exercise 5.1: Swapping two values\n",
    "\n",
    "Suppose you have two variables: a and b. Now you want to set a equal to the value of b and at the same time set b equal to the value of a.\n",
    "- The following obviously does not work\n",
    "- a = b\n",
    "- b = a\n",
    "\n",
    "so in some languages, you need to define a third variable like this\n",
    "\n",
    "- t = a\n",
    "- a = b\n",
    "- b = t\n",
    "\n",
    "However, in Python you don’t need to do this. How can you swap a and b in one line?"
   ]
  },
  {
   "cell_type": "code",
   "execution_count": null,
   "metadata": {},
   "outputs": [
    {
     "name": "stdout",
     "output_type": "stream",
     "text": [
      "5\n",
      "0\n"
     ]
    }
   ],
   "source": [
    "a = 5\n",
    "b = 0\n",
    "b, a = a, b\n",
    "print(b)\n",
    "print(a)\n"
   ]
  },
  {
   "cell_type": "markdown",
   "metadata": {},
   "source": [
    "### Exercise 5.2: Zip\n",
    "Suppose we have two lists, x and y that give the x and y coordinates of a set of points.\n",
    "\n",
    "Create a list with the coordinates (x,y) as a tuple. Hint: Find out about the zip function.\n",
    "\n",
    "You have decided that actually, you need the two seperate lists, but unfortunately, you have thrown them away. How can we use zip to unzip the list of tuples to get two lists again?"
   ]
  },
  {
   "cell_type": "code",
   "execution_count": null,
   "metadata": {},
   "outputs": [
    {
     "name": "stdout",
     "output_type": "stream",
     "text": [
      "((-3, -3), (-2, -2), (-1, -1), (0, 0), (1, 1), (2, 2), (3, 3))\n",
      "[(-3, -2, -1, 0, 1, 2, 3), (-3, -2, -1, 0, 1, 2, 3)]\n"
     ]
    }
   ],
   "source": [
    "x = [-3, -2, -1, 0, 1, 2, 3]\n",
    "y = [-3, -2, -1, 0, 1, 2, 3]\n",
    "\n",
    "coordinates = tuple(zip(x, y))\n",
    "print(coordinates)\n",
    "seperate_object = zip(*coordinates)\n",
    "seperate_list = list(seperate_object)\n",
    "print(seperate_list)\n"
   ]
  },
  {
   "cell_type": "markdown",
   "metadata": {},
   "source": [
    "### Exercise 5.3: Distances\n",
    "Suppose we have two vectors, x and y, stored as tuples with n elements. \n",
    "\n",
    "Implement functions that compute the l1 and l2 distances between x and y. Note that n is not explicitly given.\n"
   ]
  },
  {
   "cell_type": "code",
   "execution_count": null,
   "metadata": {},
   "outputs": [
    {
     "name": "stdout",
     "output_type": "stream",
     "text": [
      "1.0 - 14.212670403551895 - 9.848857801796104 - 37.20215047547655 - "
     ]
    }
   ],
   "source": [
    "import random\n",
    "import math\n",
    "\n",
    "\n",
    "def calc(n):\n",
    "    x, y = [], []\n",
    "    for i in range(n):\n",
    "        x.append(int(random.random()*i*10))\n",
    "        y.append(int(random.random()*i*10))\n",
    "\n",
    "    distance = tuple(zip(x, y))\n",
    "\n",
    "    for i in range(len(distance) - 1):\n",
    "        # sqr((x2 - x1)^2 + (y2 - y1)^2)  -  formula for distance between two points\n",
    "        print(math.sqrt(((distance[i+1][0] - distance[i][0])** 2) + ((distance[i+1][1] - distance[i][1])**2)), end=' - ')\n",
    "\n",
    "\n",
    "calc(5)\n"
   ]
  },
  {
   "cell_type": "markdown",
   "metadata": {},
   "source": [
    "## _6 Dictionaries_\n",
    "### Exercise 6.1: Printing a dictionary\n",
    "Write a function that prints key-value pairs of a dictionary.\n"
   ]
  },
  {
   "cell_type": "code",
   "execution_count": null,
   "metadata": {},
   "outputs": [
    {
     "name": "stdout",
     "output_type": "stream",
     "text": [
      "1 a\n",
      "2 b\n",
      "3 c\n"
     ]
    }
   ],
   "source": [
    "def pairs(args: dict):\n",
    "    for i in args:\n",
    "        print(i, args[i])\n",
    "\n",
    "pairs({1: 'a', 2: 'b', 3: 'c'})\n"
   ]
  },
  {
   "cell_type": "markdown",
   "metadata": {},
   "source": [
    "### Exercise 6.2: Histogram\n",
    "Write a function that takes a list, and returns a dictionary with keys the elements of the list and as value the number of occurances of that element in the list.\n",
    "\n",
    "After you are done, look up ‘python collections counter’ in Google. Could you use a counter instead?"
   ]
  },
  {
   "cell_type": "code",
   "execution_count": null,
   "metadata": {},
   "outputs": [
    {
     "name": "stdout",
     "output_type": "stream",
     "text": [
      "Counter({1: 3, 5: 3, 2: 2, 53: 2, 7: 1, 69: 1, 84: 1, 89: 1, 74: 1, 4: 1, 64: 1, 6: 1, 54: 1})\n"
     ]
    }
   ],
   "source": [
    "from collections import Counter\n",
    "\n",
    "\n",
    "def collection_counter(args: list):\n",
    "    counters = Counter(args)\n",
    "    print(counters)\n",
    "\n",
    "\n",
    "collection_counter([1, 1, 1, 2, 2, 7, 5, 5, 5, 69,\n",
    "                   84, 89, 74, 4, 64, 53, 53, 6, 54])\n"
   ]
  },
  {
   "cell_type": "markdown",
   "metadata": {},
   "source": [
    "### Exercise 6.3: Get method\n",
    "Dictionaries have a get method, which takes a key and a default value. If the key is in the dictionary,it returns the value, otherwise, it returns the default value.\n",
    "\n",
    "Rewrite your code from the previous problem to make use of this get method."
   ]
  },
  {
   "cell_type": "code",
   "execution_count": null,
   "metadata": {},
   "outputs": [],
   "source": []
  },
  {
   "cell_type": "markdown",
   "metadata": {},
   "source": [
    "### Exercise 6.4: Random text generator\n",
    "In this question we will start implementing a random text generator. The generated phrases somewhat\n",
    "resemble English, but are usually nonsense. Next week, after we learn about file I/O, we are ready to\n",
    "complete the code.\n",
    "\n",
    "To generate sentences, we first construct a so-called Markov chain based on actual text data. This is a\n",
    "very basic language model. We can then sample paths from this Markov chain to create new phrases.\n",
    "\n",
    "This is actually easier than it sounds:\n",
    "- A Markov chain consists of states, and transition probabilities between states: i.e. when I am in state A, what is the probability that I’ll go to state B?\n",
    "We focus on the simple case where the state will be the current word. Consider the example sentence\n",
    "‘the fire and the wind.’ Then, the states that we move through are\n",
    "- BEGIN → the → fire → and → the → wind. → END\n",
    "  \n",
    "where ‘BEGIN’ and ‘END’ are special states for the beginning and the end of the sentence. To find the\n",
    "transition probabilities, we go over a large body of text and record current word and the next word. \n",
    "\n",
    "In the above example, ‘BEGIN’ is followed by ‘the’, and ‘the’ is followed by ‘fire’ and ‘wind’.\n",
    "\n",
    "We won’t be computing actual probabilities. Instead, we create a dictionary that, for every word,\n",
    "contains all the words that follow it. \n",
    "\n",
    "To generate a phrase, we start at the ‘BEGIN’ state, and pick\n",
    "randomly one word from the list of words that follows the ‘BEGIN’ state. \n",
    "\n",
    "Then we look up which words\n",
    "follow that word, and again pick one word at random, until we hit the ‘END’ state, which signals that\n",
    "we are done.\n",
    "\n",
    "Before you get started, download the starter code by using\n",
    "$ git clone https://github.com/schmit/Markov-chain-startercode.git (if you have git / use\n",
    "Cloud9) or dowload the code directly:\n",
    "https://github.com/schmit/Markov-chain-startercode/archive/master.zip\n",
    "Then\n",
    "• Implement the process line function, which takes a line as input, and returns a list with tuples\n",
    "with the current state, and the next state.\n",
    "• Implement the process textfile function, which loops over text, calls process line to extract\n",
    "the transitions, and adds these to a dictionary. For now, do not worry about reading data from a\n",
    "file, the lines are given as elements of the list f.\n",
    "• Implement the generate line function, which generates random phrases based on a dictionary\n",
    "with transitions.\n",
    "See markov.py for a more detailed description of each function.\n",
    "To run the code, use python markov.py <filename>. Since we are not using any files yet, replace\n",
    "<filename> with a random word."
   ]
  },
  {
   "cell_type": "code",
   "execution_count": null,
   "metadata": {},
   "outputs": [],
   "source": []
  },
  {
   "cell_type": "markdown",
   "metadata": {},
   "source": [
    "### Exercise 6.5: Vector functions\n",
    "Let’s implement some vector functions. There are two types of vectors, normal or dense vectors, which\n",
    "we can represent using lists. \n",
    "\n",
    "For sparse vectors, where many of the elements are zero, this is inefficient.\n",
    "\n",
    "Instead, we use a dictionary with keys the indices of non-zero values, and then the value corresponding\n",
    "to the key is the value of the vector at that index. \n",
    "- Hence, the vector [1, 2, 4] can be stored as a list: [1,2, 4] or as a dictionary {0:1, 1: 2, 2: 4}\n",
    "- (a) Write a function that adds two (dense) vectors\n",
    "- (b) Write a function that multiplies (i.e. inner product) two (dense) vectors\n",
    "- (c) Write a function that adds two sparse vectors\n",
    "- (d) Write a function that multiplies two sparse vectors\n",
    "- (e) Write a function that adds a sparse vector and a dense vector\n",
    "- (f) Write a function that multiplies a sparse vector and a dense vector"
   ]
  },
  {
   "cell_type": "code",
   "execution_count": null,
   "metadata": {},
   "outputs": [
    {
     "name": "stdout",
     "output_type": "stream",
     "text": [
      "[1, 2, 3, 4, 5, 6]\n",
      "32\n",
      "None\n",
      "None\n",
      "None\n",
      "None\n"
     ]
    }
   ],
   "source": [
    "import numpy as np\n",
    "\n",
    "\n",
    "def a(vector_1: list, vector_2: list):\n",
    "    return vector_1 + vector_2\n",
    "\n",
    "\n",
    "def b(vector_1: list, vector_2: list):\n",
    "    return np.inner(vector_1, vector_2)\n",
    "\n",
    "\n",
    "def c(vector_1: list, vector_2: list):\n",
    "    pass\n",
    "\n",
    "\n",
    "def d(vector_1: list, vector_2: list):\n",
    "    pass\n",
    "\n",
    "\n",
    "def e(vector_1: list, vector_2: list):\n",
    "    pass\n",
    "\n",
    "\n",
    "def f(vector_1: list, vector_2: list):\n",
    "    pass\n",
    "\n",
    "\n",
    "print(a([1, 2, 3], [4, 5, 6]))\n",
    "print(b([1, 2, 3], [4, 5, 6]))\n",
    "print(c([1, 2, 3], [4, 5, 6]))\n",
    "print(d([1, 2, 3], [4, 5, 6]))\n",
    "print(e([1, 2, 3], [4, 5, 6]))\n",
    "print(f([1, 2, 3], [4, 5, 6]))\n"
   ]
  },
  {
   "cell_type": "markdown",
   "metadata": {},
   "source": [
    "### Exercise 6.6: Reverse look-up\n",
    "Dictionaries are made to look up values by keys. Suppose however, we want to find the key that isassociated with some value. \n",
    "\n",
    "Write a function that takes a dictionary and a value, and returns the key associated with this value.\n",
    "\n",
    "What challenges do you face? How would you deal with those challenges?"
   ]
  },
  {
   "cell_type": "code",
   "execution_count": null,
   "metadata": {},
   "outputs": [
    {
     "data": {
      "text/plain": [
       "[3, 'c']"
      ]
     },
     "execution_count": 75,
     "metadata": {},
     "output_type": "execute_result"
    }
   ],
   "source": [
    "def reverse_look_up(args: dict, value: int):\n",
    "    for i in args:\n",
    "        if args[i] == value:\n",
    "            return [i,args[i]]\n",
    "    return False\n",
    "\n",
    "reverse_look_up({1:'a',2:'b',3:'c'}, 'c')"
   ]
  }
 ],
 "metadata": {
  "interpreter": {
   "hash": "63fd5069d213b44bf678585dea6b12cceca9941eaf7f819626cde1f2670de90d"
  },
  "kernelspec": {
   "display_name": "Python 3.9.6 64-bit",
   "language": "python",
   "name": "python3"
  },
  "language_info": {
   "codemirror_mode": {
    "name": "ipython",
    "version": 3
   },
   "file_extension": ".py",
   "mimetype": "text/x-python",
   "name": "python",
   "nbconvert_exporter": "python",
   "pygments_lexer": "ipython3",
   "version": "3.9.6"
  },
  "orig_nbformat": 4
 },
 "nbformat": 4,
 "nbformat_minor": 2
}
