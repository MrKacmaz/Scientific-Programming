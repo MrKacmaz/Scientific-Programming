{
 "cells": [
  {
   "cell_type": "markdown",
   "metadata": {},
   "source": [
    "# __EXERCISES 2__"
   ]
  },
  {
   "cell_type": "markdown",
   "metadata": {},
   "source": [
    "### _Coded by Alperen KAÇMAZ_"
   ]
  },
  {
   "cell_type": "markdown",
   "metadata": {},
   "source": [
    "## _4 Lists_"
   ]
  },
  {
   "cell_type": "markdown",
   "metadata": {},
   "source": [
    "### Exercise 4.1: Short questions\n"
   ]
  },
  {
   "cell_type": "markdown",
   "metadata": {},
   "source": [
    "- (a) Write a function that prints the elements of a list"
   ]
  },
  {
   "cell_type": "code",
   "execution_count": null,
   "metadata": {},
   "outputs": [],
   "source": [
    "def print_fun(args):\n",
    "    for i in args: \n",
    "        print(i,end=' ')\n",
    "\n",
    "print_fun([5, 6, 7, 9, 2, 0])\n"
   ]
  },
  {
   "cell_type": "markdown",
   "metadata": {},
   "source": [
    "- (b) Write a function that prints the elements of a list in reverse\n"
   ]
  },
  {
   "cell_type": "code",
   "execution_count": null,
   "metadata": {},
   "outputs": [],
   "source": [
    "def reverse(args):\n",
    "    for i in range(len(args)-1, 0, -1):\n",
    "        print(args[i], end=' ')\n",
    "\n",
    "\n",
    "reverse([5, 6, 7, 8, 9])\n"
   ]
  },
  {
   "cell_type": "markdown",
   "metadata": {},
   "source": [
    "- (c) Write your own implementation of the len function that returns the number of elements in a list.\n"
   ]
  },
  {
   "cell_type": "code",
   "execution_count": null,
   "metadata": {},
   "outputs": [],
   "source": [
    "def own_len(args):\n",
    "    index = 0\n",
    "    for i in args:\n",
    "        index += 1\n",
    "    return index\n",
    "\n",
    "\n",
    "print(own_len([5, 6, 7, 8, 9, 2, 0]))\n"
   ]
  },
  {
   "cell_type": "markdown",
   "metadata": {},
   "source": [
    "### Exercise 4.2: Copying lists\n",
    "- (a) Create a list a with some entries.\n",
    "- (b) Now set b = a\n",
    "- (c) Change b[1]\n",
    "- (d) What happened to a?\n",
    "- (e) Now set c = a[:]\n",
    "- (f) Change c[2]\n",
    "- (g) What happened to a?"
   ]
  },
  {
   "cell_type": "code",
   "execution_count": null,
   "metadata": {},
   "outputs": [],
   "source": [
    "a = [1, 2, 5, 9, 3, 11, 97, -5, 6, -21]\n",
    "b = a\n",
    "b[1] = -999\n",
    "# b yi değiştirmek istesek de atama işlemi yapıldığı için kök veri yapısıda değişir\n",
    "print(a) \n",
    "c = a[:]\n",
    "c[2]=999\n",
    "# c ye atama işlemi yerine kopyalama işlemi yapıldığı için a nın yani kök veri yapısında değişme olmadı\n",
    "print(a)"
   ]
  },
  {
   "cell_type": "markdown",
   "metadata": {},
   "source": [
    "- Now create a function set_first_elem_to_zero(l) that takes a list, sets its first entry to zero, and returns the list.\n",
    "- What happens to the original list?"
   ]
  },
  {
   "cell_type": "code",
   "execution_count": null,
   "metadata": {},
   "outputs": [],
   "source": [
    "def set_first_elem_to_zero(args: list):\n",
    "    args[0] = 0\n",
    "    return args\n",
    "\n",
    "\n",
    "print(set_first_elem_to_zero([9, 5, 8]))\n"
   ]
  },
  {
   "cell_type": "markdown",
   "metadata": {},
   "source": [
    "### Exercise 4.3: Lists of lists\n",
    "- What is the difference between a and b:\n",
    "  - a = [[]] * 3\n",
    "  - b = [[] for _ in xrange(3)]"
   ]
  },
  {
   "cell_type": "code",
   "execution_count": null,
   "metadata": {},
   "outputs": [],
   "source": [
    "a = [[]] * 3\n",
    "b = [[] for _ in range(3)]\n",
    "print(a)\n",
    "print(b)"
   ]
  },
  {
   "cell_type": "markdown",
   "metadata": {},
   "source": [
    "### Exercise 4.4: Lists and functions\n",
    "- Write a function that takes a list and an index, and sets the value of the list at the given index to 0."
   ]
  },
  {
   "cell_type": "code",
   "execution_count": null,
   "metadata": {},
   "outputs": [],
   "source": [
    "def list_fun(args: list, index: int):\n",
    "    args[index] = 0\n",
    "    return args\n",
    "\n",
    "\n",
    "print(list_fun([5, 9, 8, 6, 2, -9], 2))\n"
   ]
  },
  {
   "cell_type": "markdown",
   "metadata": {},
   "source": [
    "### Exercise 4.5: Primes\n",
    "- In Section 3 you wrote a function that prints all primes up to n, and a function that prints the first n primes. Update these functions such that they return lists instead."
   ]
  },
  {
   "cell_type": "code",
   "execution_count": null,
   "metadata": {},
   "outputs": [],
   "source": [
    "def is_prime(n):\n",
    "    for i in range(2, n):\n",
    "        if n % i == 0:\n",
    "            return False\n",
    "\n",
    "    return True\n",
    "\n",
    "def print_prime(n):\n",
    "    primes = list()\n",
    "    for i in range(2, n + 1):\n",
    "        if is_prime(i):\n",
    "            primes.append(i)\n",
    "    return primes\n",
    "            \n",
    "print(print_prime(211))"
   ]
  },
  {
   "cell_type": "markdown",
   "metadata": {},
   "source": [
    "### Exercise 4.6: List comprehensions\n",
    "Let i, j = 1, . . . , n\n",
    "- (a) Generate a list with elements [i,j].\n",
    "- (b) Generate a list with elements [i,j] with i < j\n",
    "\n"
   ]
  },
  {
   "cell_type": "code",
   "execution_count": null,
   "metadata": {},
   "outputs": [],
   "source": [
    "i, j = (3, 5)\n",
    "arr = [[0]*i]*j\n",
    "print(arr)\n"
   ]
  },
  {
   "cell_type": "markdown",
   "metadata": {},
   "source": [
    "- (c) Generate a list with elements i + j with both i and j prime and i > j.\n"
   ]
  },
  {
   "cell_type": "code",
   "execution_count": null,
   "metadata": {},
   "outputs": [],
   "source": [
    "i, j = (7, 5)\n",
    "my_list = [[0] * (i+j)]*(i+j)\n",
    "print(my_list)\n"
   ]
  },
  {
   "cell_type": "markdown",
   "metadata": {},
   "source": [
    "- (d) Write a function that evaluates an arbitrary polynomial a0 + a1x + a2x2 + . . . + anxn using a list comprehension, where you are given x and a list with coefficients coefs (hint: use enumerate)"
   ]
  },
  {
   "cell_type": "code",
   "execution_count": 56,
   "metadata": {},
   "outputs": [
    {
     "name": "stdout",
     "output_type": "stream",
     "text": [
      "34\n"
     ]
    }
   ],
   "source": [
    "def coeff(args: list, x: int):\n",
    "    retval = 0\n",
    "    for i in range(len(args)):\n",
    "        if i == 0:\n",
    "            retval += args[i]\n",
    "        else:\n",
    "            retval += args[i] * (x**i)\n",
    "    return retval\n",
    "\n",
    "\n",
    "print(coeff([1, 2, 3], 3))\n"
   ]
  },
  {
   "cell_type": "markdown",
   "metadata": {},
   "source": [
    "### Exercise 4.7: Filter\n",
    "In lecture we have seen how to implement map using list comprehensions. Implement filter using list\n",
    "comprehensions.\n",
    "\n",
    "Name your functions myfilter so you can compare with Python’s standard filter."
   ]
  }
 ],
 "metadata": {
  "interpreter": {
   "hash": "63fd5069d213b44bf678585dea6b12cceca9941eaf7f819626cde1f2670de90d"
  },
  "kernelspec": {
   "display_name": "Python 3.9.6 64-bit",
   "language": "python",
   "name": "python3"
  },
  "language_info": {
   "codemirror_mode": {
    "name": "ipython",
    "version": 3
   },
   "file_extension": ".py",
   "mimetype": "text/x-python",
   "name": "python",
   "nbconvert_exporter": "python",
   "pygments_lexer": "ipython3",
   "version": "3.9.6"
  },
  "orig_nbformat": 4
 },
 "nbformat": 4,
 "nbformat_minor": 2
}
