{
 "cells": [
  {
   "cell_type": "markdown",
   "metadata": {},
   "source": [
    "# **EXERCISES 2**\n"
   ]
  },
  {
   "cell_type": "markdown",
   "metadata": {},
   "source": [
    "### _Coded by Alperen KAÇMAZ_\n"
   ]
  },
  {
   "cell_type": "markdown",
   "metadata": {},
   "source": [
    "## _4 Lists_\n"
   ]
  },
  {
   "cell_type": "markdown",
   "metadata": {},
   "source": [
    "### Exercise 4.1: Short questions\n"
   ]
  },
  {
   "cell_type": "markdown",
   "metadata": {},
   "source": [
    "- (a) Write a function that prints the elements of a list\n"
   ]
  },
  {
   "cell_type": "code",
   "execution_count": null,
   "metadata": {},
   "outputs": [],
   "source": [
    "def print_fun(args):\n",
    "    for i in args:\n",
    "        print(i, end=' ')\n",
    "\n",
    "\n",
    "print_fun([5, 6, 7, 9, 2, 0])\n"
   ]
  },
  {
   "cell_type": "markdown",
   "metadata": {},
   "source": [
    "- (b) Write a function that prints the elements of a list in reverse\n"
   ]
  },
  {
   "cell_type": "code",
   "execution_count": null,
   "metadata": {},
   "outputs": [],
   "source": [
    "def reverse(args):\n",
    "    for i in range(len(args)-1, 0, -1):\n",
    "        print(args[i], end=' ')\n",
    "\n",
    "\n",
    "reverse([5, 6, 7, 8, 9])\n"
   ]
  },
  {
   "cell_type": "markdown",
   "metadata": {},
   "source": [
    "- (c) Write your own implementation of the len function that returns the number of elements in a list.\n"
   ]
  },
  {
   "cell_type": "code",
   "execution_count": null,
   "metadata": {},
   "outputs": [],
   "source": [
    "def own_len(args):\n",
    "    index = 0\n",
    "    for i in args:\n",
    "        index += 1\n",
    "    return index\n",
    "\n",
    "\n",
    "print(own_len([5, 6, 7, 8, 9, 2, 0]))\n"
   ]
  },
  {
   "cell_type": "markdown",
   "metadata": {},
   "source": [
    "### Exercise 4.2: Copying lists\n",
    "\n",
    "- (a) Create a list a with some entries.\n",
    "- (b) Now set b = a\n",
    "- (c) Change b[1]\n",
    "- (d) What happened to a?\n",
    "- (e) Now set c = a[:]\n",
    "- (f) Change c[2]\n",
    "- (g) What happened to a?\n"
   ]
  },
  {
   "cell_type": "code",
   "execution_count": null,
   "metadata": {},
   "outputs": [],
   "source": [
    "a = [1, 2, 5, 9, 3, 11, 97, -5, 6, -21]\n",
    "b = a\n",
    "b[1] = -999\n",
    "# b yi değiştirmek istesek de atama işlemi yapıldığı için kök veri yapısıda değişir\n",
    "print(a)\n",
    "c = a[:]\n",
    "c[2] = 999\n",
    "# c ye atama işlemi yerine kopyalama işlemi yapıldığı için a nın yani kök veri yapısında değişme olmadı\n",
    "print(a)\n"
   ]
  },
  {
   "cell_type": "markdown",
   "metadata": {},
   "source": [
    "- Now create a function set_first_elem_to_zero(l) that takes a list, sets its first entry to zero, and returns the list.\n",
    "- What happens to the original list?\n"
   ]
  },
  {
   "cell_type": "code",
   "execution_count": null,
   "metadata": {},
   "outputs": [],
   "source": [
    "def set_first_elem_to_zero(args: list):\n",
    "    args[0] = 0\n",
    "    return args\n",
    "\n",
    "\n",
    "print(set_first_elem_to_zero([9, 5, 8]))\n"
   ]
  },
  {
   "cell_type": "markdown",
   "metadata": {},
   "source": [
    "### Exercise 4.3: Lists of lists\n",
    "\n",
    "- What is the difference between a and b:\n",
    "  - a = [[]] \\* 3\n",
    "  - b = [[] for \\_ in xrange(3)]\n"
   ]
  },
  {
   "cell_type": "code",
   "execution_count": null,
   "metadata": {},
   "outputs": [],
   "source": [
    "a = [[]] * 3\n",
    "b = [[] for _ in range(3)]\n",
    "print(a)\n",
    "print(b)\n"
   ]
  },
  {
   "cell_type": "markdown",
   "metadata": {},
   "source": [
    "### Exercise 4.4: Lists and functions\n",
    "\n",
    "- Write a function that takes a list and an index, and sets the value of the list at the given index to 0.\n"
   ]
  },
  {
   "cell_type": "code",
   "execution_count": null,
   "metadata": {},
   "outputs": [],
   "source": [
    "def list_fun(args: list, index: int):\n",
    "    args[index] = 0\n",
    "    return args\n",
    "\n",
    "\n",
    "print(list_fun([5, 9, 8, 6, 2, -9], 2))\n"
   ]
  },
  {
   "cell_type": "markdown",
   "metadata": {},
   "source": [
    "### Exercise 4.5: Primes\n",
    "\n",
    "- In Section 3 you wrote a function that prints all primes up to n, and a function that prints the first n primes. Update these functions such that they return lists instead.\n"
   ]
  },
  {
   "cell_type": "code",
   "execution_count": null,
   "metadata": {},
   "outputs": [],
   "source": [
    "def is_prime(n):\n",
    "    for i in range(2, n):\n",
    "        if n % i == 0:\n",
    "            return False\n",
    "\n",
    "    return True\n",
    "\n",
    "\n",
    "def print_prime(n):\n",
    "    primes = list()\n",
    "    for i in range(2, n + 1):\n",
    "        if is_prime(i):\n",
    "            primes.append(i)\n",
    "    return primes\n",
    "\n",
    "\n",
    "print(print_prime(211))\n"
   ]
  },
  {
   "cell_type": "markdown",
   "metadata": {},
   "source": [
    "### Exercise 4.6: List comprehensions\n",
    "\n",
    "Let i, j = 1, . . . , n\n",
    "\n",
    "- (a) Generate a list with elements [i,j].\n",
    "- (b) Generate a list with elements [i,j] with i < j\n"
   ]
  },
  {
   "cell_type": "code",
   "execution_count": null,
   "metadata": {},
   "outputs": [],
   "source": [
    "i, j = (3, 5)\n",
    "arr = [[0]*i]*j\n",
    "print(arr)\n"
   ]
  },
  {
   "cell_type": "markdown",
   "metadata": {},
   "source": [
    "- (c) Generate a list with elements i + j with both i and j prime and i > j.\n"
   ]
  },
  {
   "cell_type": "code",
   "execution_count": null,
   "metadata": {},
   "outputs": [],
   "source": [
    "i, j = (7, 5)\n",
    "my_list = [[0] * (i+j)]*(i+j)\n",
    "print(my_list)\n"
   ]
  },
  {
   "cell_type": "markdown",
   "metadata": {},
   "source": [
    "- (d) Write a function that evaluates an arbitrary polynomial a0 + a1x + a2x2 + . . . + anxn using a list comprehension, where you are given x and a list with coefficients coefs (hint: use enumerate)\n"
   ]
  },
  {
   "cell_type": "code",
   "execution_count": 56,
   "metadata": {},
   "outputs": [
    {
     "name": "stdout",
     "output_type": "stream",
     "text": [
      "34\n"
     ]
    }
   ],
   "source": [
    "def coeff(args: list, x: int):\n",
    "    retval = 0\n",
    "    for i in range(len(args)):\n",
    "        if i == 0:\n",
    "            retval += args[i]\n",
    "        else:\n",
    "            retval += args[i] * (x**i)\n",
    "    return retval\n",
    "\n",
    "\n",
    "print(coeff([1, 2, 3], 3))\n"
   ]
  },
  {
   "cell_type": "markdown",
   "metadata": {},
   "source": [
    "### Exercise 4.7: Filter\n",
    "\n",
    "In lecture we have seen how to implement map using list comprehensions. Implement filter using list\n",
    "comprehensions.\n",
    "\n",
    "Name your functions myfilter so you can compare with Python’s standard filter.\n"
   ]
  },
  {
   "cell_type": "code",
   "execution_count": 11,
   "metadata": {},
   "outputs": [
    {
     "name": "stdout",
     "output_type": "stream",
     "text": [
      "filter >> [2, 4, 6, 8, 0]  ||  myfilter >> [2, 4, 6, 8, 0]\n"
     ]
    }
   ],
   "source": [
    "def myfilter(args: list):\n",
    "    ll = []\n",
    "    for i in args:\n",
    "        if i % 2 == 0:\n",
    "            ll.append(i)\n",
    "    return ll\n",
    "\n",
    "\n",
    "arr = [1, 2, 3, 4, 5, 6, 7, 8, 9, 0]\n",
    "print('filter >> ' + str(list(filter(lambda x: x % 2 == 0, arr))), end='  || ')\n",
    "print(' myfilter >> ' + str(myfilter(arr)))\n"
   ]
  },
  {
   "cell_type": "markdown",
   "metadata": {},
   "source": [
    "### Exercise 4.8: Flatten a list of lists\n",
    "\n",
    "- Consider having a list with lists as elements, e.g. [[1,3], [3,6]].\n",
    "- Write a function that takes such a list, and returns a list with as elements the elements of the sublists, e.g. [1, 3, 3, 6].\n"
   ]
  },
  {
   "cell_type": "code",
   "execution_count": 12,
   "metadata": {},
   "outputs": [
    {
     "name": "stdout",
     "output_type": "stream",
     "text": [
      "[1, 3, 5, 6]\n"
     ]
    }
   ],
   "source": [
    "def combine(args: list):\n",
    "    index = []\n",
    "    for i in args:\n",
    "        for j in i:\n",
    "            index.append(j)\n",
    "    return index\n",
    "\n",
    "\n",
    "elements = [[1, 3], [5, 6]]\n",
    "print(combine(elements))\n"
   ]
  },
  {
   "cell_type": "markdown",
   "metadata": {},
   "source": [
    "### Exercise 4.9: Finding the longest word\n",
    "\n",
    "- Write a function that returns the longest word in a variable text that contains a sentence.\n",
    "- While text may contain punctuation, these should not be taken into account. What happens with ties?\n",
    "- As an example, consider: “Hello, how was the football match earlier today???”\n"
   ]
  },
  {
   "cell_type": "code",
   "execution_count": 29,
   "metadata": {},
   "outputs": [
    {
     "data": {
      "text/plain": [
       "8"
      ]
     },
     "execution_count": 29,
     "metadata": {},
     "output_type": "execute_result"
    }
   ],
   "source": [
    "def tlw(args: str):\n",
    "    punctuation = [',', '.', '?', ';', ':', '!']\n",
    "    counter = 0\n",
    "    counters = []\n",
    "    for i in range(len(args)):\n",
    "        if args[i] == ' ':\n",
    "            counters.append(counter)\n",
    "            counter = 0\n",
    "            continue\n",
    "        if i == len(args)-1:\n",
    "            counters.append(counter)\n",
    "            break\n",
    "        if args[i] in punctuation:\n",
    "            continue\n",
    "        counter += 1\n",
    "\n",
    "    return max(counters)\n",
    "\n",
    "\n",
    "tlw('Hello, how was the football match earlier today???')\n"
   ]
  },
  {
   "cell_type": "markdown",
   "metadata": {},
   "source": [
    "### Exercise 4.10: Collatz sequence, part 2\n",
    "\n",
    "Recall the Collatz sequence problem from Section 1. Our goal is to find the number n < 1, 000, 000 that leads to the longest Collatz sequence.\n",
    "\n",
    "- (a) Write a function that for any n, returns its Collatz sequence as a list\n",
    "- (b) Write a function that finds the integer x that leads to the longest Collatz sequence with x < n.\n"
   ]
  },
  {
   "cell_type": "code",
   "execution_count": 60,
   "metadata": {},
   "outputs": [
    {
     "name": "stdout",
     "output_type": "stream",
     "text": [
      "Number >> 837799\n",
      "Length >> 524\n",
      "Array >> [2513398, 1256699, 3770098, 1885049, 5655148, 2827574, 1413787, 4241362, 2120681, 6362044, 3181022, 1590511, 4771534, 2385767, 7157302, 3578651, 10735954, 5367977, 16103932, 8051966, 4025983, 12077950, 6038975, 18116926, 9058463, 27175390, 13587695, 40763086, 20381543, 61144630, 30572315, 91716946, 45858473, 137575420, 68787710, 34393855, 103181566, 51590783, 154772350, 77386175, 232158526, 116079263, 348237790, 174118895, 522356686, 261178343, 783535030, 391767515, 1175302546, 587651273, 1762953820, 881476910, 440738455, 1322215366, 661107683, 1983323050, 991661525, 2974984576, 1487492288, 743746144, 371873072, 185936536, 92968268, 46484134, 23242067, 69726202, 34863101, 104589304, 52294652, 26147326, 13073663, 39220990, 19610495, 58831486, 29415743, 88247230, 44123615, 132370846, 66185423, 198556270, 99278135, 297834406, 148917203, 446751610, 223375805, 670127416, 335063708, 167531854, 83765927, 251297782, 125648891, 376946674, 188473337, 565420012, 282710006, 141355003, 424065010, 212032505, 636097516, 318048758, 159024379, 477073138, 238536569, 715609708, 357804854, 178902427, 536707282, 268353641, 805060924, 402530462, 201265231, 603795694, 301897847, 905693542, 452846771, 1358540314, 679270157, 2037810472, 1018905236, 509452618, 254726309, 764178928, 382089464, 191044732, 95522366, 47761183, 143283550, 71641775, 214925326, 107462663, 322387990, 161193995, 483581986, 241790993, 725372980, 362686490, 181343245, 544029736, 272014868, 136007434, 68003717, 204011152, 102005576, 51002788, 25501394, 12750697, 38252092, 19126046, 9563023, 28689070, 14344535, 43033606, 21516803, 64550410, 32275205, 96825616, 48412808, 24206404, 12103202, 6051601, 18154804, 9077402, 4538701, 13616104, 6808052, 3404026, 1702013, 5106040, 2553020, 1276510, 638255, 1914766, 957383, 2872150, 1436075, 4308226, 2154113, 6462340, 3231170, 1615585, 4846756, 2423378, 1211689, 3635068, 1817534, 908767, 2726302, 1363151, 4089454, 2044727, 6134182, 3067091, 9201274, 4600637, 13801912, 6900956, 3450478, 1725239, 5175718, 2587859, 7763578, 3881789, 11645368, 5822684, 2911342, 1455671, 4367014, 2183507, 6550522, 3275261, 9825784, 4912892, 2456446, 1228223, 3684670, 1842335, 5527006, 2763503, 8290510, 4145255, 12435766, 6217883, 18653650, 9326825, 27980476, 13990238, 6995119, 20985358, 10492679, 31478038, 15739019, 47217058, 23608529, 70825588, 35412794, 17706397, 53119192, 26559596, 13279798, 6639899, 19919698, 9959849, 29879548, 14939774, 7469887, 22409662, 11204831, 33614494, 16807247, 50421742, 25210871, 75632614, 37816307, 113448922, 56724461, 170173384, 85086692, 42543346, 21271673, 63815020, 31907510, 15953755, 47861266, 23930633, 71791900, 35895950, 17947975, 53843926, 26921963, 80765890, 40382945, 121148836, 60574418, 30287209, 90861628, 45430814, 22715407, 68146222, 34073111, 102219334, 51109667, 153329002, 76664501, 229993504, 114996752, 57498376, 28749188, 14374594, 7187297, 21561892, 10780946, 5390473, 16171420, 8085710, 4042855, 12128566, 6064283, 18192850, 9096425, 27289276, 13644638, 6822319, 20466958, 10233479, 30700438, 15350219, 46050658, 23025329, 69075988, 34537994, 17268997, 51806992, 25903496, 12951748, 6475874, 3237937, 9713812, 4856906, 2428453, 7285360, 3642680, 1821340, 910670, 455335, 1366006, 683003, 2049010, 1024505, 3073516, 1536758, 768379, 2305138, 1152569, 3457708, 1728854, 864427, 2593282, 1296641, 3889924, 1944962, 972481, 2917444, 1458722, 729361, 2188084, 1094042, 547021, 1641064, 820532, 410266, 205133, 615400, 307700, 153850, 76925, 230776, 115388, 57694, 28847, 86542, 43271, 129814, 64907, 194722, 97361, 292084, 146042, 73021, 219064, 109532, 54766, 27383, 82150, 41075, 123226, 61613, 184840, 92420, 46210, 23105, 69316, 34658, 17329, 51988, 25994, 12997, 38992, 19496, 9748, 4874, 2437, 7312, 3656, 1828, 914, 457, 1372, 686, 343, 1030, 515, 1546, 773, 2320, 1160, 580, 290, 145, 436, 218, 109, 328, 164, 82, 41, 124, 62, 31, 94, 47, 142, 71, 214, 107, 322, 161, 484, 242, 121, 364, 182, 91, 274, 137, 412, 206, 103, 310, 155, 466, 233, 700, 350, 175, 526, 263, 790, 395, 1186, 593, 1780, 890, 445, 1336, 668, 334, 167, 502, 251, 754, 377, 1132, 566, 283, 850, 425, 1276, 638, 319, 958, 479, 1438, 719, 2158, 1079, 3238, 1619, 4858, 2429, 7288, 3644, 1822, 911, 2734, 1367, 4102, 2051, 6154, 3077, 9232, 4616, 2308, 1154, 577, 1732, 866, 433, 1300, 650, 325, 976, 488, 244, 122, 61, 184, 92, 46, 23, 70, 35, 106, 53, 160, 80, 40, 20, 10, 5, 16, 8, 4, 2, 1]\n"
     ]
    }
   ],
   "source": [
    "def collatz(arg: int):\n",
    "    collatz_arr = []\n",
    "    x_zero = arg\n",
    "    interrupt = 0\n",
    "    while interrupt == 0:\n",
    "        # even\n",
    "        if x_zero % 2 == 0:\n",
    "            x_zero = int(x_zero / 2)\n",
    "            # break the while loop\n",
    "            if x_zero == 1:\n",
    "                interrupt = 1\n",
    "            collatz_arr.append(int(x_zero))\n",
    "\n",
    "        # odd\n",
    "        else:\n",
    "            x_zero = int((x_zero * 3) + 1)\n",
    "            # break the while loop\n",
    "            if x_zero == 1:\n",
    "                interrupt = 1\n",
    "            collatz_arr.append(int(x_zero))\n",
    "\n",
    "    return collatz_arr\n",
    "\n",
    "\n",
    "def find_max():\n",
    "    is_max = []\n",
    "    num = 0\n",
    "    for n in range(2, 1000000):\n",
    "        coll_arr = collatz(n)\n",
    "        if len(is_max) < len(coll_arr):\n",
    "            is_max = coll_arr\n",
    "            num = n\n",
    "    return is_max, num\n",
    "\n",
    "\n",
    "arr, num = find_max()\n",
    "print('Number >> ' + str(num)+'\\nLength >> ' +\n",
    "      str(len(arr)) + '\\nArray >> ' + str(arr))\n"
   ]
  },
  {
   "cell_type": "markdown",
   "metadata": {},
   "source": [
    "### Exercise 4.11: Pivots\n",
    "Write a function that takes a value x and a list ys, and returns a list that contains the value x and all elements of ys such that all values y in ys that are smaller than x come first, then we element x and then the rest of the values in ys\n",
    "- For example, the output of f(3, [6, 4, 1, 7]) should be [1, 3, 6, 4, 7]"
   ]
  },
  {
   "cell_type": "code",
   "execution_count": 62,
   "metadata": {},
   "outputs": [
    {
     "data": {
      "text/plain": [
       "[1, 3, 6, 4, 7]"
      ]
     },
     "execution_count": 62,
     "metadata": {},
     "output_type": "execute_result"
    }
   ],
   "source": [
    "def pivots(x: int, ys: list):\n",
    "    small = 0\n",
    "    for i in ys:\n",
    "        if i < x:\n",
    "            small = i\n",
    "            ys.remove(i)\n",
    "    ys.insert(0, x)\n",
    "    ys.insert(0, small)\n",
    "    return ys\n",
    "\n",
    "\n",
    "pivots(3, [6, 4, 1, 7])\n"
   ]
  },
  {
   "cell_type": "markdown",
   "metadata": {},
   "source": [
    "### Exercise 4.12: Prime challenge\n",
    "Write the function primes(n) that return a list with all prime numbers up to n using three (or less) lines of code.\n",
    "- Hint 1: Use lambda functions and list comprehensions.\n",
    "- Hint 2: Use the first two lines to define two helper (lambda) functions."
   ]
  }
 ],
 "metadata": {
  "interpreter": {
   "hash": "63fd5069d213b44bf678585dea6b12cceca9941eaf7f819626cde1f2670de90d"
  },
  "kernelspec": {
   "display_name": "Python 3.9.6 64-bit",
   "language": "python",
   "name": "python3"
  },
  "language_info": {
   "codemirror_mode": {
    "name": "ipython",
    "version": 3
   },
   "file_extension": ".py",
   "mimetype": "text/x-python",
   "name": "python",
   "nbconvert_exporter": "python",
   "pygments_lexer": "ipython3",
   "version": "3.9.6"
  },
  "orig_nbformat": 4
 },
 "nbformat": 4,
 "nbformat_minor": 2
}
