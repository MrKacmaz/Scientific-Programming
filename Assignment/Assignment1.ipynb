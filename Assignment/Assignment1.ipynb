{
 "cells": [
  {
   "cell_type": "markdown",
   "metadata": {},
   "source": [
    "# CME193 - Assignment 1\n",
    "\n",
    "In this assignment you will be learning about and implementing [Markov Chains](https://en.wikipedia.org/wiki/Markov_chain), if you have never heard  of them before, do not worry, this notebook will explain everything needed for the assignment.\n",
    "\n",
    "## Markov chains\n",
    "The best way to introduce what a Markov chain is with a simple example. Suppose you have a simple counter that you can set to any number between 0 and 9 (including 0 and 9). At every step you roll a standard 6 -sided die and depending on whether the rolled number is even or odd you either increment or decrement the counter. If you try to increment at 9, lets say it wraps around to 0 and similarly for trying to decrement at 0. Now you can play this game for multiple steps and record the counter value after every step, this is just a simple markov chain.\n",
    "\n",
    "Here is an example evolution of the markov chain,\n",
    "Start with counter at 1.\n",
    "- Step 1 : Roll a 4, its even so increment the counter to 2.\n",
    "- Step 2 : Roll a 2, its even so increment the counter to 3.\n",
    "- Step 3 : Roll a 5, its odd so decrement the counter to 2.\n",
    "\n",
    "etc.\n",
    "\n",
    "A markov chain consists of a set of n states (in our example it was the 10 states of the counter) and a probabilistic rule to jump to another state every step (the dice rolls). Although in our simple example we had a similar rule for each state, you can have a different rule for each state. For example you may say that if you the counter is odd, dont roll a die, always increment, and follow the die for even states. The rule is always in the form of n probabilities that sum to one. Each probability indicates the chance that it jumps to that state.\n",
    "\n",
    "In our example the rule for state 0 can be represented by the below numpy vector\n",
    "\n",
    "When you are in state 0, you have 50% chance of landing on state 1 (you rolled even) or a 50% chance of landing in state 9 ( you rolled odd and tried to decrement at 0)"
   ]
  },
  {
   "cell_type": "code",
   "execution_count": 35,
   "metadata": {},
   "outputs": [
    {
     "name": "stdout",
     "output_type": "stream",
     "text": [
      "Step 2 : Roll a 4, its even decrement to 9\n",
      "Step 3 : Roll a 6, its even decrement to 8\n",
      "Step 4 : Roll a 5, its odd increment to 9\n",
      "Step 5 : Roll a 4, its even decrement to 8\n",
      "Step 6 : Roll a 1, its odd increment to 9\n",
      "Step 7 : Roll a 2, its even decrement to 8\n",
      "Step 8 : Roll a 4, its even decrement to 7\n",
      "Step 9 : Roll a 3, its odd increment to 8\n",
      "Step 10 : Roll a 2, its even decrement to 7\n",
      "Step 11 : Roll a 1, its odd increment to 8\n",
      "Step 12 : Roll a 3, its odd increment to 9\n",
      "Step 13 : Roll a 3, its odd increment to 10\n",
      "Step 14 : Roll a 4, its even decrement to 9\n",
      "Step 15 : Roll a 2, its even decrement to 8\n",
      "Step 16 : Roll a 2, its even decrement to 7\n",
      "Step 17 : Roll a 6, its even decrement to 6\n",
      "Step 18 : Roll a 4, its even decrement to 5\n",
      "Step 19 : Roll a 3, its odd increment to 6\n",
      "Step 20 : Roll a 5, its odd increment to 7\n",
      "Step 21 : Roll a 3, its odd increment to 8\n",
      "Step 22 : Roll a 1, its odd increment to 9\n",
      "Step 23 : Roll a 3, its odd increment to 10\n",
      "Step 24 : Roll a 2, its even decrement to 9\n",
      "Step 25 : Roll a 1, its odd increment to 10\n",
      "Step 26 : Roll a 5, its odd increment to 10\n",
      "Step 27 : Roll a 5, its odd increment to 10\n",
      "Step 28 : Roll a 6, its even decrement to 9\n",
      "Step 29 : Roll a 1, its odd increment to 10\n",
      "Step 30 : Roll a 3, its odd increment to 10\n",
      "Step 31 : Roll a 4, its even decrement to 9\n",
      "Step 32 : Roll a 6, its even decrement to 8\n",
      "Step 33 : Roll a 3, its odd increment to 9\n",
      "Step 34 : Roll a 1, its odd increment to 10\n",
      "Step 35 : Roll a 3, its odd increment to 10\n",
      "Step 36 : Roll a 4, its even decrement to 9\n",
      "Step 37 : Roll a 6, its even decrement to 8\n",
      "Step 38 : Roll a 5, its odd increment to 9\n",
      "Step 39 : Roll a 3, its odd increment to 10\n",
      "Step 40 : Roll a 3, its odd increment to 10\n",
      "Step 41 : Roll a 1, its odd increment to 10\n",
      "Step 42 : Roll a 2, its even decrement to 9\n",
      "Step 43 : Roll a 5, its odd increment to 10\n",
      "Step 44 : Roll a 3, its odd increment to 10\n",
      "Step 45 : Roll a 1, its odd increment to 10\n",
      "Step 46 : Roll a 4, its even decrement to 9\n",
      "Step 47 : Roll a 4, its even decrement to 8\n",
      "Step 48 : Roll a 1, its odd increment to 9\n",
      "Step 49 : Roll a 1, its odd increment to 10\n",
      "Step 50 : Roll a 1, its odd increment to 10\n",
      "Step 51 : Roll a 5, its odd increment to 10\n",
      "Step 52 : Roll a 6, its even decrement to 9\n",
      "Step 53 : Roll a 3, its odd increment to 10\n",
      "Step 54 : Roll a 5, its odd increment to 10\n",
      "Step 55 : Roll a 1, its odd increment to 10\n",
      "Step 56 : Roll a 2, its even decrement to 9\n",
      "Step 57 : Roll a 1, its odd increment to 10\n",
      "Step 58 : Roll a 4, its even decrement to 9\n",
      "Step 59 : Roll a 6, its even decrement to 8\n",
      "Step 60 : Roll a 6, its even decrement to 7\n",
      "Step 61 : Roll a 2, its even decrement to 6\n",
      "Step 62 : Roll a 6, its even decrement to 5\n",
      "Step 63 : Roll a 4, its even decrement to 4\n",
      "Step 64 : Roll a 5, its odd increment to 5\n",
      "Step 65 : Roll a 6, its even decrement to 4\n",
      "Step 66 : Roll a 3, its odd increment to 5\n",
      "Step 67 : Roll a 2, its even decrement to 4\n",
      "Step 68 : Roll a 2, its even decrement to 3\n",
      "Step 69 : Roll a 6, its even decrement to 2\n",
      "Step 70 : Roll a 4, its even decrement to 1\n",
      "Step 71 : Roll a 6, its even decrement to 0\n"
     ]
    }
   ],
   "source": [
    "import numpy as np\n",
    "import random as rnd\n",
    "\n",
    "\n",
    "states = 10\n",
    "chances = np.array([0., 0.5, 0., 0., 0., 0., 0., 0., 0., 0.5])\n",
    "counter = 1\n",
    "counterOfChances = 0\n",
    "\n",
    "\n",
    "def roll():\n",
    "    \"\"\"Dice that returns a value between 1 and 6\n",
    "\n",
    "    Returns:\n",
    "        int: value\n",
    "    \"\"\"\n",
    "    return rnd.randint(1, 6)\n",
    "\n",
    "\n",
    "def isEven(param: int):\n",
    "    \"\"\"check value even or odd\n",
    "\n",
    "    Args:\n",
    "        param (int): checked avlue\n",
    "\n",
    "    Returns:\n",
    "        bool: if even return true otherwise return odd\n",
    "    \"\"\"\n",
    "    return True if param % 2 == 0 else False\n",
    "\n",
    "\n",
    "while states != 0:\n",
    "    \n",
    "    # Game run\n",
    "    chance = chances[counterOfChances % 10]\n",
    "\n",
    "    # Decrement the states\n",
    "    if chance == 0.0:\n",
    "        rolledVal = roll()\n",
    "        boolVal = isEven(rolledVal)\n",
    "        # if even\n",
    "        if boolVal:\n",
    "            states -= 1\n",
    "        # if odd\n",
    "        else:\n",
    "            # states can not be increment if states equals 10\n",
    "            if states != 10:\n",
    "                states += 1\n",
    "        counter += 1\n",
    "        print('Step ' + str(counter) + ' : ' + 'Roll a ' +\n",
    "              str(rolledVal) + ', its ' + str('even ' if boolVal else 'odd ') + str('decrement' if boolVal else 'increment') + ' to ' + str(states))\n",
    "    counterOfChances += 1\n"
   ]
  },
  {
   "cell_type": "markdown",
   "metadata": {},
   "source": [
    "The index in the array represents the state and the value represents the probability with which you will jump to that state. Similarly this is the rule for state 4"
   ]
  },
  {
   "cell_type": "code",
   "execution_count": 36,
   "metadata": {},
   "outputs": [
    {
     "name": "stdout",
     "output_type": "stream",
     "text": [
      "Step 2 : Roll a 2, its even decrement to 3\n",
      "Step 3 : Roll a 5, its odd increment to 4\n",
      "Step 4 : Roll a 6, its even decrement to 3\n",
      "Step 5 : Roll a 1, its odd increment to 4\n",
      "Step 6 : Roll a 2, its even decrement to 3\n",
      "Step 7 : Roll a 3, its odd increment to 4\n",
      "Step 8 : Roll a 1, its odd increment to 5\n",
      "Step 9 : Roll a 3, its odd increment to 6\n",
      "Step 10 : Roll a 3, its odd increment to 7\n",
      "Step 11 : Roll a 5, its odd increment to 8\n",
      "Step 12 : Roll a 5, its odd increment to 9\n",
      "Step 13 : Roll a 6, its even decrement to 8\n",
      "Step 14 : Roll a 5, its odd increment to 9\n",
      "Step 15 : Roll a 4, its even decrement to 8\n",
      "Step 16 : Roll a 3, its odd increment to 9\n",
      "Step 17 : Roll a 3, its odd increment to 10\n",
      "Step 18 : Roll a 3, its odd increment to 10\n",
      "Step 19 : Roll a 6, its even decrement to 9\n",
      "Step 20 : Roll a 2, its even decrement to 8\n",
      "Step 21 : Roll a 5, its odd increment to 9\n",
      "Step 22 : Roll a 5, its odd increment to 10\n",
      "Step 23 : Roll a 6, its even decrement to 9\n",
      "Step 24 : Roll a 3, its odd increment to 10\n",
      "Step 25 : Roll a 5, its odd increment to 10\n",
      "Step 26 : Roll a 5, its odd increment to 10\n",
      "Step 27 : Roll a 6, its even decrement to 9\n",
      "Step 28 : Roll a 1, its odd increment to 10\n",
      "Step 29 : Roll a 3, its odd increment to 10\n",
      "Step 30 : Roll a 4, its even decrement to 9\n",
      "Step 31 : Roll a 4, its even decrement to 8\n",
      "Step 32 : Roll a 3, its odd increment to 9\n",
      "Step 33 : Roll a 3, its odd increment to 10\n",
      "Step 34 : Roll a 4, its even decrement to 9\n",
      "Step 35 : Roll a 2, its even decrement to 8\n",
      "Step 36 : Roll a 2, its even decrement to 7\n",
      "Step 37 : Roll a 5, its odd increment to 8\n",
      "Step 38 : Roll a 3, its odd increment to 9\n",
      "Step 39 : Roll a 3, its odd increment to 10\n",
      "Step 40 : Roll a 1, its odd increment to 10\n",
      "Step 41 : Roll a 1, its odd increment to 10\n",
      "Step 42 : Roll a 5, its odd increment to 10\n",
      "Step 43 : Roll a 2, its even decrement to 9\n",
      "Step 44 : Roll a 4, its even decrement to 8\n",
      "Step 45 : Roll a 3, its odd increment to 9\n",
      "Step 46 : Roll a 5, its odd increment to 10\n",
      "Step 47 : Roll a 3, its odd increment to 10\n",
      "Step 48 : Roll a 3, its odd increment to 10\n",
      "Step 49 : Roll a 4, its even decrement to 9\n",
      "Step 50 : Roll a 6, its even decrement to 8\n",
      "Step 51 : Roll a 1, its odd increment to 9\n",
      "Step 52 : Roll a 3, its odd increment to 10\n",
      "Step 53 : Roll a 1, its odd increment to 10\n",
      "Step 54 : Roll a 4, its even decrement to 9\n",
      "Step 55 : Roll a 4, its even decrement to 8\n",
      "Step 56 : Roll a 3, its odd increment to 9\n",
      "Step 57 : Roll a 3, its odd increment to 10\n",
      "Step 58 : Roll a 2, its even decrement to 9\n",
      "Step 59 : Roll a 5, its odd increment to 10\n",
      "Step 60 : Roll a 4, its even decrement to 9\n",
      "Step 61 : Roll a 3, its odd increment to 10\n",
      "Step 62 : Roll a 4, its even decrement to 9\n",
      "Step 63 : Roll a 6, its even decrement to 8\n",
      "Step 64 : Roll a 3, its odd increment to 9\n",
      "Step 65 : Roll a 6, its even decrement to 8\n",
      "Step 66 : Roll a 3, its odd increment to 9\n",
      "Step 67 : Roll a 6, its even decrement to 8\n",
      "Step 68 : Roll a 2, its even decrement to 7\n",
      "Step 69 : Roll a 5, its odd increment to 8\n",
      "Step 70 : Roll a 2, its even decrement to 7\n",
      "Step 71 : Roll a 4, its even decrement to 6\n",
      "Step 72 : Roll a 6, its even decrement to 5\n",
      "Step 73 : Roll a 2, its even decrement to 4\n",
      "Step 74 : Roll a 1, its odd increment to 5\n",
      "Step 75 : Roll a 1, its odd increment to 6\n",
      "Step 76 : Roll a 4, its even decrement to 5\n",
      "Step 77 : Roll a 4, its even decrement to 4\n",
      "Step 78 : Roll a 2, its even decrement to 3\n",
      "Step 79 : Roll a 5, its odd increment to 4\n",
      "Step 80 : Roll a 3, its odd increment to 5\n",
      "Step 81 : Roll a 5, its odd increment to 6\n",
      "Step 82 : Roll a 2, its even decrement to 5\n",
      "Step 83 : Roll a 5, its odd increment to 6\n",
      "Step 84 : Roll a 4, its even decrement to 5\n",
      "Step 85 : Roll a 4, its even decrement to 4\n",
      "Step 86 : Roll a 4, its even decrement to 3\n",
      "Step 87 : Roll a 4, its even decrement to 2\n",
      "Step 88 : Roll a 3, its odd increment to 3\n",
      "Step 89 : Roll a 4, its even decrement to 2\n",
      "Step 90 : Roll a 4, its even decrement to 1\n",
      "Step 91 : Roll a 4, its even decrement to 0\n"
     ]
    }
   ],
   "source": [
    "import numpy as np\n",
    "import random as rnd\n",
    "\n",
    "states = 4\n",
    "chances = np.array([0., 0., 0., 0.5, 0., 0.5, 0., 0., 0., 0.])\n",
    "counter = 1\n",
    "counterOfChances = 0\n",
    "\n",
    "\n",
    "def roll():\n",
    "    \"\"\"Dice that returns a value between 1 and 6\n",
    "\n",
    "    Returns:\n",
    "        int: value\n",
    "    \"\"\"\n",
    "    return rnd.randint(1, 6)\n",
    "\n",
    "\n",
    "def isEven(param: int):\n",
    "    \"\"\"check value even or odd\n",
    "\n",
    "    Args:\n",
    "        param (int): checked avlue\n",
    "\n",
    "    Returns:\n",
    "        bool: if even return true otherwise return odd\n",
    "    \"\"\"\n",
    "    return True if param % 2 == 0 else False\n",
    "\n",
    "\n",
    "while states != 0:\n",
    "\n",
    "    # Game run\n",
    "    chance = chances[counterOfChances % 10]\n",
    "\n",
    "    # Decrement the states\n",
    "    if chance == 0.0:\n",
    "        rolledVal = roll()\n",
    "        boolVal = isEven(rolledVal)\n",
    "        # if even\n",
    "        if boolVal:\n",
    "            states -= 1\n",
    "        # if odd\n",
    "        else:\n",
    "            # states can not be increment if states equals 10\n",
    "            if states != 10:\n",
    "                states += 1\n",
    "        counter += 1\n",
    "        print('Step ' + str(counter) + ' : ' + 'Roll a ' +\n",
    "              str(rolledVal) + ', its ' + str('even ' if boolVal else 'odd ') + str('decrement' if boolVal else 'increment') + ' to ' + str(states))\n",
    "    counterOfChances += 1\n"
   ]
  },
  {
   "cell_type": "markdown",
   "metadata": {},
   "source": [
    "## Transition Matrix\n",
    "\n",
    "The way to represent markov chains is with a transition matrix $T$ of size (n,n), where the column i will the rule vector for the state i ( Here we are assuming that the states ae numbered 0 to n-1 ).\n",
    "\n",
    "Thus you can interpret the element $T_{ij}$ of the matrix as the probability you will jump to state i from the state j."
   ]
  },
  {
   "cell_type": "markdown",
   "metadata": {},
   "source": [
    "## Question 1\n",
    "\n",
    "Write a function to return the transition matrix for the following markov chain, given the number of states as an argument.\n",
    "\n",
    "The rule for the markov chain is as follows,\n",
    "\n",
    "If current state is i (and if i is not n-1)\n",
    "1. With probability 0.6, it goes to state i+1\n",
    "2. With probability 0.1, it will fall back to state i = 0.\n",
    "2. With probability 0.3, it goes to state i-1 if i is at least 1. If i is instead 0 it stays at state 0.\n",
    "3. At state n-1, instead of the above operations we stay at state n-1 with probability 1\n",
    "\n",
    "Intuitively, this markov chain behaves in the following way, at every step there is an 60% chance that it climbs up by 1, a 10% chance that it falls down completely, and a 30% chance it falls down by 1. If it does reach the final state n-1, it stays there forever.\n",
    "\n",
    "You are **not** allowed to use any for loops for this question, instead use numpy indexing to fill in your matrix. You can assume that n is atleast 4.\n",
    "\n",
    "Hints:\n",
    "1. First write your code in an empty cell for with a hardcoded n value, in this way you can quickly iterate and get the right answer first. Then copy it into the function.\n",
    "2. You can use [Array indexing](https://docs.scipy.org/doc/numpy-1.13.0/user/basics.indexing.html#index-arrays)"
   ]
  },
  {
   "cell_type": "code",
   "execution_count": 3,
   "metadata": {},
   "outputs": [],
   "source": [
    "##### YOUR CODE HERE\n",
    "def transition_matrix(n:int):\n",
    "    \n",
    "    pass\n"
   ]
  },
  {
   "cell_type": "code",
   "execution_count": 4,
   "metadata": {},
   "outputs": [],
   "source": [
    "#TESTING\n",
    "transition_matrix(10)"
   ]
  },
  {
   "cell_type": "markdown",
   "metadata": {},
   "source": [
    "To test your function , check that the above returns \n",
    "```\n",
    "array([[0.4, 0.4, 0.1, 0.1, 0.1, 0.1, 0.1, 0.1, 0.1, 0. ],\n",
    "       [0.6, 0. , 0.3, 0. , 0. , 0. , 0. , 0. , 0. , 0. ],\n",
    "       [0. , 0.6, 0. , 0.3, 0. , 0. , 0. , 0. , 0. , 0. ],\n",
    "       [0. , 0. , 0.6, 0. , 0.3, 0. , 0. , 0. , 0. , 0. ],\n",
    "       [0. , 0. , 0. , 0.6, 0. , 0.3, 0. , 0. , 0. , 0. ],\n",
    "       [0. , 0. , 0. , 0. , 0.6, 0. , 0.3, 0. , 0. , 0. ],\n",
    "       [0. , 0. , 0. , 0. , 0. , 0.6, 0. , 0.3, 0. , 0. ],\n",
    "       [0. , 0. , 0. , 0. , 0. , 0. , 0.6, 0. , 0.3, 0. ],\n",
    "       [0. , 0. , 0. , 0. , 0. , 0. , 0. , 0.6, 0. , 0. ],\n",
    "       [0. , 0. , 0. , 0. , 0. , 0. , 0. , 0. , 0.6, 1. ]])\n",
    "```"
   ]
  },
  {
   "cell_type": "markdown",
   "metadata": {},
   "source": [
    "## Question 2\n",
    "\n",
    "Now we want to use the transtion matrix to know what are the probabilites of being in each state after running the markov chain for k steps. For example, for the above markov chain, I want to know after 30 steps, what is the probablity that I have reached the state n-1.\n",
    "\n",
    "Luckily this is fairly easy to calculate, using matrix multiplication. An amazingly useful property of the transition matrix is as follows, if you have vector $p_j$ as the vector of probabilites after step $j$, then $p_{j+1}$ is given by the following matrix vector product.\n",
    "\n",
    "$$ p_{j+1} =  Tp_j $$\n",
    "\n",
    "We will not prove this result here, but if you spend some time thinking about what matrix multiplication is doing here, especially interpret it as taking a linear combination of columns then it should make sense.\n",
    "\n",
    "Thus if someone gave you a probability distribution for the starting state as $p_0$, then the probability distribtion after $k$ steps is simply given by multiplying by the transition matrix k times\n",
    "\n",
    "$$ p_{k} =  T^{k}p_0 $$\n",
    "\n",
    "Implement a function which given an initial distribution `p0`, number of steps `k` and a transition matrix `tm`, it will return the distribution after k steps"
   ]
  },
  {
   "cell_type": "code",
   "execution_count": 5,
   "metadata": {},
   "outputs": [],
   "source": [
    "#YOUR CODE HERE\n",
    "def propagate(p0,k,tm):\n",
    "    pass"
   ]
  },
  {
   "cell_type": "code",
   "execution_count": 6,
   "metadata": {},
   "outputs": [],
   "source": [
    "#TESTING\n",
    "tm = transition_matrix(10)\n",
    "p0 = np.zeros(10)\n",
    "p0[0] = 1\n",
    "pk = propagate(p0,30,tm)\n",
    "pk"
   ]
  },
  {
   "cell_type": "markdown",
   "metadata": {},
   "source": [
    "The above code should return :\n",
    "\n",
    "```\n",
    "array([0.16029774, 0.13006664, 0.10561269, 0.08547506, 0.06947427,\n",
    "       0.05552321, 0.04450658, 0.03281234, 0.02049648, 0.29573499])\n",
    "```"
   ]
  },
  {
   "cell_type": "markdown",
   "metadata": {},
   "source": [
    "## Question 3\n",
    "### Part a\n",
    "With this implementation of `propagate`, you can now compute the probability of being in each state of the markov chain after k steps. How many steps does it take for the probability of being in the final state to be at least 0.5?\n",
    "\n",
    "After each step the probability of being in the final state slowly increases: once we are in state n-1, we never leave. At some point this probability will cross 50%. What you need to calculate is how many steps does it take to cross 50%.\n",
    "\n",
    "Again use n=10 transition matrix and start from state 0.\n",
    "\n",
    "Hints:\n",
    "1. Use the while loop"
   ]
  },
  {
   "cell_type": "code",
   "execution_count": 7,
   "metadata": {},
   "outputs": [],
   "source": [
    "#YOUR CODE HERE"
   ]
  },
  {
   "cell_type": "markdown",
   "metadata": {},
   "source": [
    "### Part b\n",
    "Convert the above Code into a function that computes the number of steps to 50% probability in the final state given `n` the size of the markov chain"
   ]
  },
  {
   "cell_type": "code",
   "execution_count": 8,
   "metadata": {},
   "outputs": [],
   "source": [
    "#YOUR CODE HERE"
   ]
  },
  {
   "cell_type": "markdown",
   "metadata": {},
   "source": [
    "### Part c\n",
    "Compute and plot the number of steps required for $n$ ranging from 10 to 40.\n",
    "\n",
    "Lookup the plotting function `plt.semilogy`and understand what it does, plot another graph of the number of steps using it.\n",
    "\n",
    "What does the semilogy plot tell you?\n",
    "\n",
    "Save the plots as \"qsn3c.png\" and \"qsn3c_semilogy.png\"\n",
    "\n",
    "**Hint:** if your code takes a long time to run, your implementation of `num_steps` may need to be improved. If you  know the distribution after $j$ steps of the markov chain, is there a way to use it to compute the distribution after $j+1$ steps?"
   ]
  },
  {
   "cell_type": "code",
   "execution_count": 9,
   "metadata": {},
   "outputs": [],
   "source": [
    "#YOUR CODE HERE\n",
    "import matplotlib.pyplot as plt"
   ]
  },
  {
   "cell_type": "markdown",
   "metadata": {},
   "source": [
    "## Question 4\n",
    "\n",
    "### Part a\n",
    "Now we want to also compute some samples from the markov chain. What does this mean? Given a starting state, the Markov chain says that we move to various different states with some probabilities. We want to use randomness to choose what this next state is. Each call to the function will return a different answer, a new sample.\n",
    "\n",
    "For example consider the markov chain we have been using. It computes the next state by either adding 1 (with probability 0.6), subtracting 1 (probability 0.3), or going back to state 0 (probability 0.1) until it reaches the final state. Once it reaches the final state it stays there forever. If we were starting from state `4` of our Markov chain (for example), then we want to return `5` with probability 0.6, `3` with probability 0.3, and `0` with probability 0.1. \n",
    "\n",
    "Write a function `sample` which takes in a transition matrix `tm` and an initial state `s0` and samples a state to move to starting from `s0`. "
   ]
  },
  {
   "cell_type": "code",
   "execution_count": 10,
   "metadata": {},
   "outputs": [],
   "source": [
    "import numpy.random as rnd"
   ]
  },
  {
   "cell_type": "code",
   "execution_count": 11,
   "metadata": {},
   "outputs": [],
   "source": [
    "#YOUR CODE HERE\n",
    "def sample(tm, s0):\n",
    "    pass"
   ]
  },
  {
   "cell_type": "markdown",
   "metadata": {},
   "source": [
    "Your implementation should **not** hard-code the probability values from the specific Markov chain we have been working with so far."
   ]
  },
  {
   "cell_type": "markdown",
   "metadata": {},
   "source": [
    "### part b\n",
    "\n",
    "With this implementation of `sample`, write a function `sample_k_steps` which runs a random walk in the chain for `k` steps from an initial state `s0`. The random walk works in the following way: we start from `s0` and sample a new state to move to. We then set that new state to be `s0` and sample a new state to move to from there, repeating this until we have stepped `k` times.\n",
    "\n",
    "As an example, in the chain we have been working with so far we can only add 1, subtract 1, or go to 0 each time we step until we reach state `n-1`. When we are in state `n-1` we stay there forever. Thus a potential sample of 25 steps in the `n=10` chain is\n",
    "```\n",
    "array([0,1,2,1,2,3,0,0,1,2,3,4,5,4,3,4,5,6,7,8,9,9,9,9,9,9])\n",
    "```\n",
    "Note that each element of this array is equal to 0, equal to n-1, or is 1 greater or 1 less than the previous one. Further once we have an `n-1` value in our array we have that value for all future elements. \n",
    "\n",
    "Write a function `sample_k_steps` which takes in transition matrix `tm`, number of steps `k`, and  starting state `s0` and returns an array of `k+1` states sampled from the chain.\n",
    "\n",
    "Hint: You can use `sample` from 4a for this"
   ]
  },
  {
   "cell_type": "code",
   "execution_count": 12,
   "metadata": {},
   "outputs": [],
   "source": [
    "#YOUR CODE HERE\n",
    "def sample_k_steps(tm,k,s0):\n",
    "    pass"
   ]
  },
  {
   "cell_type": "markdown",
   "metadata": {},
   "source": [
    "Use the below code to test out some of the samples, it samples 20 trajectories of the markov chain and plots them. The plot should show that almost all or all the trajectories would ahve reached the final state by the end. Save this graph as \"qsn4b.png\"."
   ]
  },
  {
   "cell_type": "code",
   "execution_count": 14,
   "metadata": {},
   "outputs": [
    {
     "ename": "ValueError",
     "evalue": "x, y, and format string must not be None",
     "output_type": "error",
     "traceback": [
      "\u001b[1;31m---------------------------------------------------------------------------\u001b[0m",
      "\u001b[1;31mValueError\u001b[0m                                Traceback (most recent call last)",
      "\u001b[1;32mc:\\Users\\alper\\Desktop\\Study\\Alperen\\2021-2022 School Year\\Spring\\Scientifct Programming\\Hw\\Scientific-Programming\\Assignment\\Assignment1.ipynb Cell 27'\u001b[0m in \u001b[0;36m<cell line: 7>\u001b[1;34m()\u001b[0m\n\u001b[0;32m      <a href='vscode-notebook-cell:/c%3A/Users/alper/Desktop/Study/Alperen/2021-2022%20School%20Year/Spring/Scientifct%20Programming/Hw/Scientific-Programming/Assignment/Assignment1.ipynb#ch0000026?line=6'>7</a>\u001b[0m \u001b[39mfor\u001b[39;00m i \u001b[39min\u001b[39;00m \u001b[39mrange\u001b[39m(\u001b[39m20\u001b[39m):\n\u001b[0;32m      <a href='vscode-notebook-cell:/c%3A/Users/alper/Desktop/Study/Alperen/2021-2022%20School%20Year/Spring/Scientifct%20Programming/Hw/Scientific-Programming/Assignment/Assignment1.ipynb#ch0000026?line=7'>8</a>\u001b[0m     states \u001b[39m=\u001b[39m sample_k_steps(tm, k, s0)\n\u001b[1;32m----> <a href='vscode-notebook-cell:/c%3A/Users/alper/Desktop/Study/Alperen/2021-2022%20School%20Year/Spring/Scientifct%20Programming/Hw/Scientific-Programming/Assignment/Assignment1.ipynb#ch0000026?line=8'>9</a>\u001b[0m     plt\u001b[39m.\u001b[39;49mplot(states)\n\u001b[0;32m     <a href='vscode-notebook-cell:/c%3A/Users/alper/Desktop/Study/Alperen/2021-2022%20School%20Year/Spring/Scientifct%20Programming/Hw/Scientific-Programming/Assignment/Assignment1.ipynb#ch0000026?line=10'>11</a>\u001b[0m plt\u001b[39m.\u001b[39msavefig(\u001b[39m\"\u001b[39m\u001b[39mqsn4b.png\u001b[39m\u001b[39m\"\u001b[39m)\n",
      "File \u001b[1;32m~\\AppData\\Roaming\\Python\\Python39\\site-packages\\matplotlib\\pyplot.py:2757\u001b[0m, in \u001b[0;36mplot\u001b[1;34m(scalex, scaley, data, *args, **kwargs)\u001b[0m\n\u001b[0;32m   <a href='file:///c%3A/Users/alper/AppData/Roaming/Python/Python39/site-packages/matplotlib/pyplot.py?line=2754'>2755</a>\u001b[0m \u001b[39m@_copy_docstring_and_deprecators\u001b[39m(Axes\u001b[39m.\u001b[39mplot)\n\u001b[0;32m   <a href='file:///c%3A/Users/alper/AppData/Roaming/Python/Python39/site-packages/matplotlib/pyplot.py?line=2755'>2756</a>\u001b[0m \u001b[39mdef\u001b[39;00m \u001b[39mplot\u001b[39m(\u001b[39m*\u001b[39margs, scalex\u001b[39m=\u001b[39m\u001b[39mTrue\u001b[39;00m, scaley\u001b[39m=\u001b[39m\u001b[39mTrue\u001b[39;00m, data\u001b[39m=\u001b[39m\u001b[39mNone\u001b[39;00m, \u001b[39m*\u001b[39m\u001b[39m*\u001b[39mkwargs):\n\u001b[1;32m-> <a href='file:///c%3A/Users/alper/AppData/Roaming/Python/Python39/site-packages/matplotlib/pyplot.py?line=2756'>2757</a>\u001b[0m     \u001b[39mreturn\u001b[39;00m gca()\u001b[39m.\u001b[39mplot(\n\u001b[0;32m   <a href='file:///c%3A/Users/alper/AppData/Roaming/Python/Python39/site-packages/matplotlib/pyplot.py?line=2757'>2758</a>\u001b[0m         \u001b[39m*\u001b[39margs, scalex\u001b[39m=\u001b[39mscalex, scaley\u001b[39m=\u001b[39mscaley,\n\u001b[0;32m   <a href='file:///c%3A/Users/alper/AppData/Roaming/Python/Python39/site-packages/matplotlib/pyplot.py?line=2758'>2759</a>\u001b[0m         \u001b[39m*\u001b[39m\u001b[39m*\u001b[39m({\u001b[39m\"\u001b[39m\u001b[39mdata\u001b[39m\u001b[39m\"\u001b[39m: data} \u001b[39mif\u001b[39;00m data \u001b[39mis\u001b[39;00m \u001b[39mnot\u001b[39;00m \u001b[39mNone\u001b[39;00m \u001b[39melse\u001b[39;00m {}), \u001b[39m*\u001b[39m\u001b[39m*\u001b[39mkwargs)\n",
      "File \u001b[1;32m~\\AppData\\Roaming\\Python\\Python39\\site-packages\\matplotlib\\axes\\_axes.py:1632\u001b[0m, in \u001b[0;36mAxes.plot\u001b[1;34m(self, scalex, scaley, data, *args, **kwargs)\u001b[0m\n\u001b[0;32m   <a href='file:///c%3A/Users/alper/AppData/Roaming/Python/Python39/site-packages/matplotlib/axes/_axes.py?line=1389'>1390</a>\u001b[0m \u001b[39m\"\"\"\u001b[39;00m\n\u001b[0;32m   <a href='file:///c%3A/Users/alper/AppData/Roaming/Python/Python39/site-packages/matplotlib/axes/_axes.py?line=1390'>1391</a>\u001b[0m \u001b[39mPlot y versus x as lines and/or markers.\u001b[39;00m\n\u001b[0;32m   <a href='file:///c%3A/Users/alper/AppData/Roaming/Python/Python39/site-packages/matplotlib/axes/_axes.py?line=1391'>1392</a>\u001b[0m \n\u001b[1;32m   (...)\u001b[0m\n\u001b[0;32m   <a href='file:///c%3A/Users/alper/AppData/Roaming/Python/Python39/site-packages/matplotlib/axes/_axes.py?line=1628'>1629</a>\u001b[0m \u001b[39m(``'green'``) or hex strings (``'#008000'``).\u001b[39;00m\n\u001b[0;32m   <a href='file:///c%3A/Users/alper/AppData/Roaming/Python/Python39/site-packages/matplotlib/axes/_axes.py?line=1629'>1630</a>\u001b[0m \u001b[39m\"\"\"\u001b[39;00m\n\u001b[0;32m   <a href='file:///c%3A/Users/alper/AppData/Roaming/Python/Python39/site-packages/matplotlib/axes/_axes.py?line=1630'>1631</a>\u001b[0m kwargs \u001b[39m=\u001b[39m cbook\u001b[39m.\u001b[39mnormalize_kwargs(kwargs, mlines\u001b[39m.\u001b[39mLine2D)\n\u001b[1;32m-> <a href='file:///c%3A/Users/alper/AppData/Roaming/Python/Python39/site-packages/matplotlib/axes/_axes.py?line=1631'>1632</a>\u001b[0m lines \u001b[39m=\u001b[39m [\u001b[39m*\u001b[39m\u001b[39mself\u001b[39m\u001b[39m.\u001b[39m_get_lines(\u001b[39m*\u001b[39margs, data\u001b[39m=\u001b[39mdata, \u001b[39m*\u001b[39m\u001b[39m*\u001b[39mkwargs)]\n\u001b[0;32m   <a href='file:///c%3A/Users/alper/AppData/Roaming/Python/Python39/site-packages/matplotlib/axes/_axes.py?line=1632'>1633</a>\u001b[0m \u001b[39mfor\u001b[39;00m line \u001b[39min\u001b[39;00m lines:\n\u001b[0;32m   <a href='file:///c%3A/Users/alper/AppData/Roaming/Python/Python39/site-packages/matplotlib/axes/_axes.py?line=1633'>1634</a>\u001b[0m     \u001b[39mself\u001b[39m\u001b[39m.\u001b[39madd_line(line)\n",
      "File \u001b[1;32m~\\AppData\\Roaming\\Python\\Python39\\site-packages\\matplotlib\\axes\\_base.py:312\u001b[0m, in \u001b[0;36m_process_plot_var_args.__call__\u001b[1;34m(self, data, *args, **kwargs)\u001b[0m\n\u001b[0;32m    <a href='file:///c%3A/Users/alper/AppData/Roaming/Python/Python39/site-packages/matplotlib/axes/_base.py?line=309'>310</a>\u001b[0m     this \u001b[39m+\u001b[39m\u001b[39m=\u001b[39m args[\u001b[39m0\u001b[39m],\n\u001b[0;32m    <a href='file:///c%3A/Users/alper/AppData/Roaming/Python/Python39/site-packages/matplotlib/axes/_base.py?line=310'>311</a>\u001b[0m     args \u001b[39m=\u001b[39m args[\u001b[39m1\u001b[39m:]\n\u001b[1;32m--> <a href='file:///c%3A/Users/alper/AppData/Roaming/Python/Python39/site-packages/matplotlib/axes/_base.py?line=311'>312</a>\u001b[0m \u001b[39myield from\u001b[39;00m \u001b[39mself\u001b[39;49m\u001b[39m.\u001b[39;49m_plot_args(this, kwargs)\n",
      "File \u001b[1;32m~\\AppData\\Roaming\\Python\\Python39\\site-packages\\matplotlib\\axes\\_base.py:459\u001b[0m, in \u001b[0;36m_process_plot_var_args._plot_args\u001b[1;34m(self, tup, kwargs, return_kwargs)\u001b[0m\n\u001b[0;32m    <a href='file:///c%3A/Users/alper/AppData/Roaming/Python/Python39/site-packages/matplotlib/axes/_base.py?line=455'>456</a>\u001b[0m \u001b[39m# Don't allow any None value; these would be up-converted to one\u001b[39;00m\n\u001b[0;32m    <a href='file:///c%3A/Users/alper/AppData/Roaming/Python/Python39/site-packages/matplotlib/axes/_base.py?line=456'>457</a>\u001b[0m \u001b[39m# element array of None which causes problems downstream.\u001b[39;00m\n\u001b[0;32m    <a href='file:///c%3A/Users/alper/AppData/Roaming/Python/Python39/site-packages/matplotlib/axes/_base.py?line=457'>458</a>\u001b[0m \u001b[39mif\u001b[39;00m \u001b[39many\u001b[39m(v \u001b[39mis\u001b[39;00m \u001b[39mNone\u001b[39;00m \u001b[39mfor\u001b[39;00m v \u001b[39min\u001b[39;00m tup):\n\u001b[1;32m--> <a href='file:///c%3A/Users/alper/AppData/Roaming/Python/Python39/site-packages/matplotlib/axes/_base.py?line=458'>459</a>\u001b[0m     \u001b[39mraise\u001b[39;00m \u001b[39mValueError\u001b[39;00m(\u001b[39m\"\u001b[39m\u001b[39mx, y, and format string must not be None\u001b[39m\u001b[39m\"\u001b[39m)\n\u001b[0;32m    <a href='file:///c%3A/Users/alper/AppData/Roaming/Python/Python39/site-packages/matplotlib/axes/_base.py?line=460'>461</a>\u001b[0m kw \u001b[39m=\u001b[39m {}\n\u001b[0;32m    <a href='file:///c%3A/Users/alper/AppData/Roaming/Python/Python39/site-packages/matplotlib/axes/_base.py?line=461'>462</a>\u001b[0m \u001b[39mfor\u001b[39;00m prop_name, val \u001b[39min\u001b[39;00m \u001b[39mzip\u001b[39m((\u001b[39m'\u001b[39m\u001b[39mlinestyle\u001b[39m\u001b[39m'\u001b[39m, \u001b[39m'\u001b[39m\u001b[39mmarker\u001b[39m\u001b[39m'\u001b[39m, \u001b[39m'\u001b[39m\u001b[39mcolor\u001b[39m\u001b[39m'\u001b[39m),\n\u001b[0;32m    <a href='file:///c%3A/Users/alper/AppData/Roaming/Python/Python39/site-packages/matplotlib/axes/_base.py?line=462'>463</a>\u001b[0m                           (linestyle, marker, color)):\n",
      "\u001b[1;31mValueError\u001b[0m: x, y, and format string must not be None"
     ]
    },
    {
     "data": {
      "image/png": "[encoded data removed]",
      "text/plain": [
       "<Figure size 432x288 with 1 Axes>"
      ]
     },
     "metadata": {
      "needs_background": "light"
     },
     "output_type": "display_data"
    }
   ],
   "source": [
    "#TESTING\n",
    "import matplotlib.pyplot as plt\n",
    "tm = transition_matrix(10)\n",
    "k = 200\n",
    "s0 = 0\n",
    "\n",
    "for i in range(20):\n",
    "    states = sample_k_steps(tm, k, s0)\n",
    "    plt.plot(states)\n",
    "\n",
    "plt.savefig(\"qsn4b.png\")"
   ]
  },
  {
   "cell_type": "markdown",
   "metadata": {},
   "source": [
    "## Question 5\n",
    "\n",
    "We will now use our implementation of `sample` to estimate *hitting times* in a Markov chain. The hitting time between states `i` and `j` is the average number of steps that a random walk starting from state `i` takes to hit state `j`. We will be creating a [Monte Carlo simulation](https://en.wikipedia.org/wiki/Monte_Carlo_method) to estimate this value: if we run many random walks starting from `i` and count the number of steps it takes them to reach `j`, the average number of steps we observe is (hopefully) a good approximation to the true hitting time.\n",
    "\n",
    "Write a function `hitting_time_1_walk` which takes in as arguments a transition matrix `tm`, a starting point `i`, and an ending point `j`. Your function should run a random walk starting from `i` until it hits `j`, and return the number of steps that your walk takes to hit `j`.\n"
   ]
  },
  {
   "cell_type": "code",
   "execution_count": null,
   "metadata": {},
   "outputs": [],
   "source": [
    "#YOUR CODE HERE\n",
    "def hitting_time_1_walk(tm,i,j):\n",
    "    pass"
   ]
  },
  {
   "cell_type": "markdown",
   "metadata": {},
   "source": [
    "Note that when applied to our markov chain from before, `hitting_time_1_walk(tm,0,n-1)` runs a random walk starting from `0` until it hits the end state `n-1`. Consequently, we expect that `hitting_time_1_walk(tm,0,n-1)` will be at most some value `k` with probability equal to `propagate(tm,0,k)[n-1]` (take some time to convince yourself of this if you are not sure of this).\n",
    "\n",
    "1. **Create a new transition matrix `tm` for n = 20**, and create an array of 1000 calls to `hitting_time_1_walk(tm,0,n-1)`. \n",
    "\n",
    "2. Write a function `proportion_at_most` which takes in as arguments an array `arr` and a value `max_value`. It should return an array with `max_value` entries, where the `i`'th entry of the output array is the proportion of the values from `arr` which are at most `i`. For example, `proportion_at_most(arr=[1,2,4,2,6], max_value = 7)` should return `[0,0.2,0.6,0.6,0.8,0.8,1,1]` (or the numpy array equivalent to this)\n",
    "\n",
    "\n",
    "3. Apply this function to the hitting time samples you computed, with `max_value = 2000`.\n",
    "\n",
    "4. Compute the theoretical probability of being in state `n-1` after `k` steps using `propagate`, for every value of `k` between `0` and `2000`. \n",
    "\n",
    "5. Plot the estimated probabilities from 2) and the true probabilities from 3) against each other. Do they agree?\n",
    "\n",
    "\n",
    "Save your plot as `qsn5.png`."
   ]
  },
  {
   "cell_type": "code",
   "execution_count": null,
   "metadata": {},
   "outputs": [],
   "source": [
    "#YOUR CODE HERE"
   ]
  },
  {
   "cell_type": "markdown",
   "metadata": {},
   "source": [
    "## Question 6\n",
    "We will now move away from Markov chains and look towards another use of linear algebra and graphs: clustering algorithms. More specifically, in this exercise we will implement a simple spectral clustering algorithm: we will demonstrate this this algorithm works on a classic synthetic dataset: the 'nested moons' dataset. We will first generate this dataset and identify the ground truth clustering we seek to find. "
   ]
  },
  {
   "cell_type": "code",
   "execution_count": null,
   "metadata": {},
   "outputs": [],
   "source": [
    "import sklearn.datasets\n",
    "\n",
    "n = 1000\n",
    "X,y = sklearn.datasets.make_moons(n,noise=0.05, random_state = 0)\n",
    "\n",
    "plt.scatter(X[y==0, 0], X[y==0, 1],label=\"True Cluster 1\")\n",
    "plt.scatter(X[y==1, 0], X[y==1, 1],label=\"True Cluster 2\")\n",
    "    \n",
    "    \n",
    "plt.legend()"
   ]
  },
  {
   "cell_type": "markdown",
   "metadata": {},
   "source": [
    "This dataset consists of $n=1000$ data points in 2-dimensional space. While it seems obvious to our eyes that a good partition of the data exists, many off-the-shelf clustering algorithms fail to fully identify the clusters on this dataset. As an example, here is how the standard K-means clustering algorithm fares on this dataset (we will see more examples of clustering in Lecture 7 when we cover Scikit-learn)."
   ]
  },
  {
   "cell_type": "code",
   "execution_count": null,
   "metadata": {},
   "outputs": [],
   "source": [
    "from sklearn.cluster import KMeans\n",
    "\n",
    "model = KMeans(n_clusters=2, random_state=0)\n",
    "kmeans_labels = model.fit(X).labels_\n",
    "\n",
    "plt.scatter(X[kmeans_labels==0, 0], X[kmeans_labels==0, 1],label=\"K-Means Cluster 1\")\n",
    "plt.scatter(X[kmeans_labels==1, 0], X[kmeans_labels==1, 1],label=\"K-Means Cluster 2\")\n",
    "    \n",
    "    \n",
    "plt.legend()"
   ]
  },
  {
   "cell_type": "markdown",
   "metadata": {},
   "source": [
    "### part (a)\n",
    "$\\newcommand{\\norm}[1]{\\left\\lVert#1\\right\\rVert}$\n",
    "In this exercise, we will implement a basic spectral clustering algorithm which will correctly identify the clusters on this dataset. To begin, we will need to form an \"affinity matrix\": the $(i,j)$ entry of this matrix indicates how close together the $i^{th}$ and $j^{th}$ data points are in space. \n",
    "\n",
    "Let $x_i$ denote the $i^{th}$ point in the data set. Form an $n \\times n$ matrix $A$ where $A_{ij} = e^{-10 \\norm{x_i - x_j}}$ (this constant of $10$ is chosen because it gives good results for this task: it may be tuned in practice). (Here, $\\norm{x_i - x_j}$ is the vector $2$-norm of the difference between $x_i$ and $x_j$.) If you did this correctly, the minimum value in $A$ should be `1.679177168057234e-14`.\n"
   ]
  },
  {
   "cell_type": "code",
   "execution_count": null,
   "metadata": {},
   "outputs": [],
   "source": [
    "#YOUR CODE HERE"
   ]
  },
  {
   "cell_type": "markdown",
   "metadata": {},
   "source": [
    "With this, we generate a [Laplacian matrix](https://www.cs.yale.edu/homes/spielman/561/2012/lect02-12.pdf). We do this in two steps: we first construct a diagonal matrix $D$ which contains the row sums of $A$ on its diagonal, and then we create the Laplacian $L = D- A$.  "
   ]
  },
  {
   "cell_type": "code",
   "execution_count": null,
   "metadata": {},
   "outputs": [],
   "source": [
    "D =  np.diag(A.sum(axis=0))\n",
    "L = D-A"
   ]
  },
  {
   "cell_type": "markdown",
   "metadata": {},
   "source": [
    "The algorithmic task behind spectral clustering algorithms is to find the eigenvector associated with *second smallest* eigenvalue of the matrix $L$. (All eigenvalues of $L$ are positive, and it is a simple exercise to show that the all-ones vector is an eigenvector of $L$ with eigenvalue $0.$) As we will later see, the entries of this vector will enable us to identify the partition in our original dataset. We will build up to this functionality in stages. \n",
    "\n",
    "We begin by writing a linear system solver for the matrix $L$. We will use an adaptation of [Richardson iteration](https://en.wikipedia.org/wiki/Modified_Richardson_iteration) to do this task: the pseudocode for this is given below. \n",
    "\n",
    "```\n",
    "    input) L: an n x n Laplacian matrix, b: an n x 1 vector with entries summing to 0, T: number of iterations\n",
    "    outputs) x: n x 1 vector approximately satisfying Lx =b.\n",
    "\n",
    "    x <- all-zeros vector\n",
    "    steplength = 0.03\n",
    "    for i = 0,1,2,...,T-1:\n",
    "        residual <- b - L*x\n",
    "        x <- x + steplength*residual\n",
    "```\n",
    "\n",
    "Write a function `richardson(L,b,T=500)` which implements the algorithm given above. (Note that the `steplength` parameter of $0.03$ may be optimized slightly, but this value gives good performance for solving linear systems in the Laplacian defined earlier.)"
   ]
  },
  {
   "cell_type": "code",
   "execution_count": null,
   "metadata": {},
   "outputs": [],
   "source": [
    "#YOUR CODE HERE\n",
    "def richardson(L,b,T=500): #in our later code, we will run for T = 500 iterations\n",
    "    pass"
   ]
  },
  {
   "cell_type": "markdown",
   "metadata": {},
   "source": [
    "### part (b)\n",
    "\n",
    "While the Richardson iteration above works well on small problems, it converges slowly on larger instances. This is especially true for our Laplacian linear system: the norm of our residual error may remain higher than $10^{-4}$ even after 1000 iterations. To address this issue, we will implement a version of [Nesterov acceleration](https://calculus.subwiki.org/wiki/Nesterov%27s_gradient_acceleration) to improve the convergence of this procedure. The pseudocode for this algorithm is given below: \n",
    "\n",
    "\n",
    "```\n",
    "    input) L: an n x n Laplacian matrix, b: an n x 1 vector with entries summing to 0, tol: error tolerance\n",
    "    outputs) x_T: n x 1 vector approximately satisfying Lx =b.\n",
    "\n",
    "    x_0, y_0 <- all-zeros vector\n",
    "    steplength = 0.03\n",
    "    alpha = 0.9\n",
    "    for i = 0, 1, ... T-1:\n",
    "        x_{i+1} <- y_i + steplength*(b - L*y_i)\n",
    "        y_{i+1} = x_{i+1} + alpha*(x_{i+1} - x_i)\n",
    "        i = i + 1\n",
    "```\n",
    "\n",
    "\n",
    "Here the index $i$ denotes the index of iteration: $y_1$ is a different $n$-dimensional vector to $y_0$ (and likewise with $x$). It does not indicate It may be helpful to un-roll the for loop to see the vectors it defines: if $\\eta$ is the steplength, we see\n",
    "\n",
    "\\begin{align*}\n",
    "x_1 = y_0 + \\eta(b- L y_0) \\\\\n",
    "y_1 = x_1 + \\alpha (x_1 - x_0) \\\\\n",
    "x_2 = y_1 + \\eta (b- L y_1) \\\\\n",
    "y_2 = x_2 + \\alpha (x_2 - x_1) \\\\\n",
    "x_3 = y_2 + \\eta (b- L y_2) \\\\\n",
    "y_3 = x_3 + \\alpha (x_3 - x_2)\n",
    "\\end{align*}\n",
    "\n",
    "and so on. We see that the vector $x_1$ defined on the first line is used to define both $y_1$ on the second line and $y_2$ on the fourth line. You should think of the algorithm as constructing two sequences of vectors $x_i$ and $y_i$: each $x$ vector is a function of the previous $y$ vector, but each $y$ vector is a function of the previous **two** $x$ vectors. You may find it helpful to store two different $x$ vectors (called $x_{current}$ and $x_{old}$ for example) to implement the algorithm.\n",
    "\n",
    "(For those interested in the justification of this procedure, solving the linear equations $Lx = b$ is equivalent to finding the minimizing $x$ for the quadratic $\\frac{1}{2} x^\\top L x - b^\\top x$. In the pseudocode, we apply the Nesterov accelerated gradient method to this problem. The constants of `alpha` and `steplength` can again be slightly improved, but these give good performance for our Laplacian)\n",
    "\n",
    "Write a function `agd(L,b,T=500)` to implement the above pseudocode. "
   ]
  },
  {
   "cell_type": "code",
   "execution_count": null,
   "metadata": {},
   "outputs": [],
   "source": [
    "#YOUR CODE HERE\n",
    "def agd(L,b,T=500):\n",
    "    pass"
   ]
  },
  {
   "cell_type": "code",
   "execution_count": null,
   "metadata": {},
   "outputs": [],
   "source": [
    "#TESTING-- try using Richardson and AGD to solve the linear system Lx = v\n",
    "np.random.seed(0)\n",
    "v = np.random.rand(n)\n",
    "v -= np.sum(v)/n\n"
   ]
  },
  {
   "cell_type": "markdown",
   "metadata": {},
   "source": [
    "If you did this correctly, you will see that the Nesterov acceleration method converges dramatically faster than Richardson iteration. \n",
    "\n",
    "We will now try to quantify this effect. Modify your implementations of `richardson` and `agd` to additionally return an array containing $\\norm{L x_i - b}$ for each $x_i$ encountered during the while loop of the algorithm. Compare these on a semilogy plot, and label your curves appropriately. Save the figure as `qsn6b.png`. "
   ]
  },
  {
   "cell_type": "code",
   "execution_count": null,
   "metadata": {},
   "outputs": [],
   "source": [
    "#YOUR CODE HERE"
   ]
  },
  {
   "cell_type": "markdown",
   "metadata": {},
   "source": [
    "### part (c)\n",
    "\n",
    "\n",
    "We are finally ready to apply our linear system solver to spectral clustering. We do this via a modification of the power method from Lecture 4. We provide the pseudocode for this method below:\n",
    "\n",
    "```\n",
    "    input) L: an n x n Laplacian matrix, iters: number of iterations\n",
    "    outputs) l: the second-smallest eigenvalue of L\n",
    "             v: the corresponding eigenvector\n",
    "\n",
    "    v <- random vector of length n\n",
    "    v <-  v - sum(v)/n \n",
    "    #this ensures v is orthogonal to the all-ones vector (the smallest eigenvalue of L) \n",
    "    for i = 0,1,2...iters-1: \n",
    "        v <- x solving the equation L*x = v\n",
    "        v <-  v - sum(v)/n \n",
    "        #this ensures v is orthogonal to the all-ones vector (the smallest eigenvalue of L) \n",
    "        v <- v / ||v||_2\n",
    "        l <- v^T L v\n",
    "```\n",
    "\n",
    "Here, `||v||_2` denotes the vector $2$-norm (there is a function in numpy to compute this). Write a function `pow_method(L,iters=20)` which implements the above pseudocode and solves the linear systems using your `agd` implementation from part (b). "
   ]
  },
  {
   "cell_type": "code",
   "execution_count": null,
   "metadata": {},
   "outputs": [],
   "source": [
    "def pow_method(L,iters=20):\n",
    "    pass\n",
    "\n",
    "l, v = pow_method(L)"
   ]
  },
  {
   "cell_type": "markdown",
   "metadata": {},
   "source": [
    "For the matrix $L$ in the problem, the eigenvalue you obtain should be between $0.1$ and $0.2$. \n",
    "\n",
    "We are finally ready to implement spectral clustering. To do this, use the function `np.argsort` to identify the indices of the largest $500$ entries from $v$. These will (hopefully) correspond to the elements of one of the clusters in our dataset. Additionally, compute the indices of the smallest $500$ entries of $v$: these will give the datapoints belonging to the other cluster. \n",
    "\n",
    "Modify the plotting code from the K-means example from earlier to display the computed spectral clusters of our input data. Label your plot appropriately, and save the figure as `qsn6c.png`."
   ]
  },
  {
   "cell_type": "code",
   "execution_count": null,
   "metadata": {},
   "outputs": [],
   "source": [
    "#YOUR CODE HERE"
   ]
  },
  {
   "cell_type": "markdown",
   "metadata": {},
   "source": [
    "# Submission Instructions\n",
    "\n",
    "You need to submit the following in canvas\n",
    "1. This notebook with the code filled in for each question\n",
    "2. The figures\n",
    "    1. qsn3.png\n",
    "    2. qsn4c.png and qsn4c_semilogy.png\n",
    "    3. qsn5.png\n",
    "    4. qsn6b.png\n",
    "    5. qsn6c.png"
   ]
  }
 ],
 "metadata": {
  "kernelspec": {
   "display_name": "Python 3",
   "language": "python",
   "name": "python3"
  },
  "language_info": {
   "codemirror_mode": {
    "name": "ipython",
    "version": 3
   },
   "file_extension": ".py",
   "mimetype": "text/x-python",
   "name": "python",
   "nbconvert_exporter": "python",
   "pygments_lexer": "ipython3",
   "version": "3.9.6"
  }
 },
 "nbformat": 4,
 "nbformat_minor": 2
}
